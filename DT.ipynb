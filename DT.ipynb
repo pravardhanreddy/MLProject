{
 "cells": [
  {
   "cell_type": "code",
   "execution_count": 1,
   "metadata": {},
   "outputs": [],
   "source": [
    "# Pandas is used for data manipulation\n",
    "import pandas as pd\n",
    "import numpy as np\n",
    "import matplotlib.pyplot as plt\n",
    "from sklearn.model_selection import cross_val_score,train_test_split\n",
    "from sklearn.metrics import accuracy_score, confusion_matrix, classification_report, precision_recall_fscore_support, f1_score, roc_curve, roc_auc_score, RocCurveDisplay, auc\n",
    "from collections import Counter\n",
    "from sklearn import preprocessing\n",
    "from sklearn.model_selection import RandomizedSearchCV\n",
    "from sklearn.ensemble import RandomForestClassifier\n",
    "from sklearn import tree"
   ]
  },
  {
   "cell_type": "code",
   "execution_count": 2,
   "metadata": {},
   "outputs": [],
   "source": [
    "\n",
    "\n",
    "def convert(data):\n",
    "    number = preprocessing.LabelEncoder()\n",
    "    data['operator'] = number.fit_transform(data.operator)\n",
    "    data['methodReturn'] = number.fit_transform(data.methodReturn)\n",
    "    data['isKilled'] = number.fit_transform(data.isKilled)\n",
    "    return data\n",
    "\n",
    "# Read in data and display first 5 rows\n",
    "features = pd.read_csv('/home/akash/Downloads/Machine/Machine Learning Final Project/Data/training_data.csv',encoding= 'unicode_escape')\n",
    "#print(features)\n",
    "#print('The shape of our features is:', features.shape)\n",
    "\n",
    "#Convert string to float\n",
    "features=convert(features)\n",
    "#print(features)\n",
    "#print('The shape of our features is:', features.shape) \n",
    "\n",
    "# Use numpy to convert to arrays\n",
    "# Labels are the values we want to predict\n",
    "labels = np.array(features['isKilled'])\n",
    "# Remove the labels from the features\n",
    "# axis 1 refers to the columns\n",
    "features= features.drop('isKilled', axis = 1)\n",
    "# Saving feature names for later use\n",
    "feature_list = list(features.columns)\n",
    "# Convert to numpy array\n",
    "features = np.array(features)"
   ]
  },
  {
   "cell_type": "code",
   "execution_count": 3,
   "metadata": {},
   "outputs": [
    {
     "name": "stdout",
     "output_type": "stream",
     "text": [
      "0.9808943027611763\n",
      "[[465317   4873]\n",
      " [  6434 115189]]\n"
     ]
    }
   ],
   "source": [
    "#Without validation set. Replicating paper\n",
    "\n",
    "# Instantiate model with 100 decision trees default\n",
    "dt = tree.DecisionTreeClassifier()\n",
    "dt.fit(features, labels)\n",
    "y_pred_train = dt.predict(features)\n",
    "print(accuracy_score(labels, y_pred_train))\n",
    "print(confusion_matrix(labels, y_pred_train))"
   ]
  },
  {
   "cell_type": "code",
   "execution_count": 4,
   "metadata": {},
   "outputs": [
    {
     "name": "stdout",
     "output_type": "stream",
     "text": [
      "[0.00752902 0.00456403 0.01153571 0.02200713 0.00921671 0.01300253\n",
      " 0.01328669 0.02004866 0.81979916 0.02473812 0.0098155  0.01616297\n",
      " 0.01619283 0.01210095]\n"
     ]
    },
    {
     "data": {
      "image/png": "[encoded data removed]",
      "text/plain": [
       "<Figure size 432x288 with 1 Axes>"
      ]
     },
     "metadata": {
      "needs_background": "light"
     },
     "output_type": "display_data"
    }
   ],
   "source": [
    "##Plot feature importance\n",
    "feature_names = [f\"features {i}\" for i in range(features.shape[1])]\n",
    "feature_names = ['DepthTree', 'NumSubclass', 'McCabe', 'LOC','DepthNested','CA','CE','Instability','numCovered','operator','methodReturn','numTestsCover','mutantAssert','classAssert']\n",
    "importances = dt.feature_importances_\n",
    "print(importances)\n",
    "tree_importances = pd.Series(importances, index=feature_names).sort_values(ascending=False)\n",
    "\n",
    "#Feature importance\n",
    "fig, ax = plt.subplots()\n",
    "tree_importances.plot.bar(ax=ax)\n",
    "ax.set_title(\"Feature importances\")\n",
    "ax.set_ylabel(\"Merit\")\n",
    "fig.tight_layout()"
   ]
  },
  {
   "cell_type": "code",
   "execution_count": 5,
   "metadata": {},
   "outputs": [
    {
     "name": "stdout",
     "output_type": "stream",
     "text": [
      "0.820151927376559\n",
      "Confusion_matrix:\n",
      " [[84435  8547]\n",
      " [18159 37351]]\n",
      "(0.820151927376559, 0.820151927376559, 0.8201519273765591, None)\n",
      "0.8201519273765591\n",
      "[0.         0.62397766 0.62422987 0.62437399 0.62437399 0.62511259\n",
      " 0.62529274 0.62531075 0.62556296 0.62640966 0.62640966 0.62642767\n",
      " 0.62696811 0.62725635 0.62727436 0.63309314 0.63327328 0.63330931\n",
      " 0.63874977 0.63968654 0.64840569 0.64851378 0.65080166 0.65083769\n",
      " 0.65083769 0.66508737 0.66544767 0.66593407 0.66762745 0.66795172\n",
      " 0.66798775 0.66822194 0.66888849 0.66982526 0.67272564 0.67286975\n",
      " 0.67286975 0.707314   0.70871915 0.70873716 0.70875518 0.71423167\n",
      " 0.71484417 0.71664565 0.71790668 0.72021257 0.72399568 0.72556296\n",
      " 0.72565304 0.73406593 0.73444424 0.73936228 0.74411818 0.74437038\n",
      " 0.74521708 0.74581157 0.74595568 0.74635201 0.74642407 0.7464601\n",
      " 0.7464601  0.7465862  1.        ] [0.         0.080037   0.080037   0.08010153 0.08012303 0.08018756\n",
      " 0.08019832 0.08019832 0.08021983 0.08023058 0.08040266 0.08042417\n",
      " 0.0804887  0.08049945 0.08049945 0.08096191 0.08098342 0.08098342\n",
      " 0.08260739 0.08305909 0.08437117 0.08437117 0.08454324 0.08454324\n",
      " 0.084554   0.09066271 0.09074875 0.09091007 0.09150158 0.09150158\n",
      " 0.09150158 0.09151234 0.09158762 0.0917812  0.09183498 0.09191026\n",
      " 0.09192102 0.09742746 0.09818029 0.09818029 0.09819105 0.1005571\n",
      " 0.10057861 0.10066464 0.10181541 0.10210578 0.10263277 0.10828978\n",
      " 0.10830053 0.11440924 0.11467811 0.11614076 0.11680755 0.11681831\n",
      " 0.11719473 0.11738831 0.11738831 0.11749586 0.11749586 0.11749586\n",
      " 0.11750661 0.1178185  1.        ] [2.         1.         0.9375     0.93333333 0.91666667 0.90909091\n",
      " 0.9        0.89256198 0.88888889 0.875      0.86666667 0.86363636\n",
      " 0.85714286 0.85       0.84615385 0.83333333 0.82352941 0.81818182\n",
      " 0.8        0.77777778 0.75       0.72727273 0.71428571 0.70588235\n",
      " 0.7        0.66666667 0.625      0.61538462 0.6        0.59090909\n",
      " 0.58333333 0.57142857 0.5625     0.55555556 0.54545455 0.52941176\n",
      " 0.52380952 0.5        0.46153846 0.45454545 0.44444444 0.4375\n",
      " 0.42857143 0.42553191 0.41666667 0.4        0.38461538 0.375\n",
      " 0.35714286 0.33333333 0.28571429 0.25       0.23076923 0.22222222\n",
      " 0.2        0.16666667 0.15384615 0.14285714 0.125      0.08333333\n",
      " 0.07692308 0.04347826 0.        ]\n",
      "AUC:  0.8217187107430803\n",
      "0.1782812892569196\n"
     ]
    },
    {
     "data": {
      "text/plain": [
       "<sklearn.metrics._plot.roc_curve.RocCurveDisplay at 0x7f490b46d9e8>"
      ]
     },
     "execution_count": 5,
     "metadata": {},
     "output_type": "execute_result"
    },
    {
     "data": {
      "image/png": "[encoded data removed]",
      "text/plain": [
       "<Figure size 432x288 with 1 Axes>"
      ]
     },
     "metadata": {
      "needs_background": "light"
     },
     "output_type": "display_data"
    }
   ],
   "source": [
    "##Input test data\n",
    "positive_prob = []\n",
    "test = pd.read_csv('/home/akash/Downloads/Machine/Machine Learning Final Project/Data/testing_data.csv',encoding= 'unicode_escape')\n",
    "\n",
    "#Convert string to float\n",
    "test=convert(test)\n",
    "\n",
    "# ## Labels are the values we want to predict\n",
    "test_labels = np.array(test['isKilled'])\n",
    "\n",
    "# # Remove the labels from the features\n",
    "# # axis 1 refers to the columns\n",
    "test= test.drop('isKilled', axis = 1)\n",
    "# # Saving feature names for later use\n",
    "feature_list = list(test.columns)\n",
    "# # Convert to numpy array\n",
    "test = np.array(test)\n",
    "y_pred_test = dt.predict(test)\n",
    "#print(\"Predicted labels::\", y_pred_test)\n",
    "print(accuracy_score(test_labels, y_pred_test))\n",
    "confusion = confusion_matrix(test_labels, y_pred_test)\n",
    "print(\"Confusion_matrix:\\n\",confusion)\n",
    "print(precision_recall_fscore_support(test_labels, y_pred_test, average='micro'))\n",
    "print(f1_score(test_labels, y_pred_test, average='micro'))\n",
    "\n",
    "# # #Get the probability of each predictions\n",
    "predicted = dt.predict_proba(test)\n",
    "#print(predicted)\n",
    "# # #Take the positive predictictability i.e. survived for calculating ROC AUC\n",
    "for i in predicted:\n",
    "    positive_prob.append(i[1])\n",
    "#print(positive_prob)\n",
    "#Calculate ROC\n",
    "fpr, tpr, thresholds = roc_curve(test_labels, positive_prob, pos_label=0)\n",
    "print(fpr, tpr, thresholds)\n",
    "try:\n",
    "    print(\"AUC: \", roc_auc_score(test_labels, positive_prob))\n",
    "    roc_auc = auc(fpr, tpr)\n",
    "    print(roc_auc)\n",
    "except:\n",
    "    pass\n",
    "display = RocCurveDisplay(fpr=fpr,tpr=tpr,roc_auc=roc_auc)\n",
    "display.plot()"
   ]
  },
  {
   "cell_type": "code",
   "execution_count": 6,
   "metadata": {},
   "outputs": [
    {
     "name": "stdout",
     "output_type": "stream",
     "text": [
      "(295906, 14) (295906,)\n",
      "(295907, 14) (295907,)\n",
      "<class 'sklearn.tree._classes.DecisionTreeClassifier'>\n",
      "0.9810413406915011\n",
      "[[232506   2432]\n",
      " [  3178  57791]]\n"
     ]
    }
   ],
   "source": [
    "##Validation set create training and testing vars\n",
    "X_train, X_test, y_train, y_test = train_test_split(features, labels, test_size=0.5)\n",
    "print (X_train.shape, y_train.shape)\n",
    "print (X_test.shape, y_test.shape)\n",
    "dt = tree.DecisionTreeClassifier()\n",
    "print(type(dt))\n",
    "dt.fit(features, labels)\n",
    "y_pred_train = dt.predict(X_test)\n",
    "print(accuracy_score(y_test, y_pred_train))\n",
    "print(confusion_matrix(y_test, y_pred_train))"
   ]
  },
  {
   "cell_type": "code",
   "execution_count": 7,
   "metadata": {},
   "outputs": [
    {
     "data": {
      "text/plain": [
       "1"
      ]
     },
     "execution_count": 7,
     "metadata": {},
     "output_type": "execute_result"
    }
   ],
   "source": [
    "from sklearn.model_selection import PredefinedSplit, GridSearchCV\n",
    "split_index = [-1] * len(X_train) + [0]*len(X_test)\n",
    "X = np.concatenate((X_train, X_test), axis =0)\n",
    "y = np.concatenate((y_train, y_test), axis = 0)\n",
    "pds = PredefinedSplit(test_fold = split_index)\n",
    "pds.get_n_splits()"
   ]
  },
  {
   "cell_type": "code",
   "execution_count": 8,
   "metadata": {},
   "outputs": [
    {
     "name": "stdout",
     "output_type": "stream",
     "text": [
      "dict_keys(['ccp_alpha', 'class_weight', 'criterion', 'max_depth', 'max_features', 'max_leaf_nodes', 'min_impurity_decrease', 'min_impurity_split', 'min_samples_leaf', 'min_samples_split', 'min_weight_fraction_leaf', 'random_state', 'splitter'])\n",
      "dict_keys(['bootstrap', 'ccp_alpha', 'class_weight', 'criterion', 'max_depth', 'max_features', 'max_leaf_nodes', 'max_samples', 'min_impurity_decrease', 'min_impurity_split', 'min_samples_leaf', 'min_samples_split', 'min_weight_fraction_leaf', 'n_estimators', 'n_jobs', 'oob_score', 'random_state', 'verbose', 'warm_start'])\n"
     ]
    }
   ],
   "source": [
    "dt =tree.DecisionTreeClassifier()\n",
    "print(dt.get_params().keys())\n",
    "rf = RandomForestClassifier()\n",
    "print(rf.get_params().keys())"
   ]
  },
  {
   "cell_type": "code",
   "execution_count": 9,
   "metadata": {},
   "outputs": [
    {
     "name": "stdout",
     "output_type": "stream",
     "text": [
      "Fitting 3 folds for each of 100 candidates, totalling 300 fits\n",
      "{'splitter': 'best', 'min_samples_split': 2, 'min_samples_leaf': 4, 'max_features': 'sqrt', 'max_depth': 10, 'criterion': 'gini'}\n"
     ]
    }
   ],
   "source": [
    "#Hyper parameter tuning\n",
    "#Criterion to getinformation gain\n",
    "criterion = ['entropy','gini']\n",
    "#splitter\n",
    "splitter = [\"best\", \"random\"]\n",
    "# Maximum number of levels in tree\n",
    "max_depth = [int(x) for x in np.linspace(10, 100, num = 10)]\n",
    "max_depth.append(None)\n",
    "# Minimum number of samples required to split a node\n",
    "min_samples_split = [2, 5, 10]\n",
    "# Minimum number of samples required at each leaf node\n",
    "min_samples_leaf = [1, 2, 4]\n",
    "# Number of features to consider at every split\n",
    "max_features = ['auto', 'sqrt']\n",
    "\n",
    "# Create the random grid\n",
    "random_grid = {\n",
    "                'criterion':criterion,\n",
    "                'splitter' :splitter,\n",
    "                'max_depth': max_depth,\n",
    "                'min_samples_split': min_samples_split,\n",
    "                'min_samples_leaf': min_samples_leaf,\n",
    "                'max_features': max_features\n",
    "                }\n",
    "\n",
    "# Import the model we are using\n",
    "dt = tree.DecisionTreeClassifier()\n",
    "# Use the random grid to search for best hyperparameters\n",
    "# First create the base model to tune\n",
    "\n",
    "dt_random = RandomizedSearchCV(estimator = dt, param_distributions = random_grid, n_iter = 100, cv = 3, verbose=2, random_state=5, n_jobs = -1)\n",
    "\n",
    "\n",
    "\n",
    "dt_random.fit(features, labels)\n",
    "print(dt_random.best_params_)"
   ]
  },
  {
   "cell_type": "code",
   "execution_count": 10,
   "metadata": {},
   "outputs": [
    {
     "name": "stdout",
     "output_type": "stream",
     "text": [
      "DecisionTreeClassifier(max_depth=10, max_features='sqrt', min_samples_leaf=4)\n",
      "0.8298965600840449\n",
      "[[79925 13057]\n",
      " [12202 43308]]\n"
     ]
    }
   ],
   "source": [
    "best_entropy_with_cv = dt_random.best_estimator_\n",
    "print(best_entropy_with_cv)\n",
    "y_pred_test = dt_random.predict(test)\n",
    "best_accuracy_entropy_with_cv = accuracy_score(test_labels, y_pred_test)\n",
    "best_confusion_entropy_with_cv = confusion_matrix(test_labels, y_pred_test)\n",
    "print(best_accuracy_entropy_with_cv)\n",
    "print(best_confusion_entropy_with_cv )"
   ]
  },
  {
   "cell_type": "code",
   "execution_count": 11,
   "metadata": {},
   "outputs": [
    {
     "name": "stdout",
     "output_type": "stream",
     "text": [
      "0.8541066185383724\n",
      "[[79692 13290]\n",
      " [ 8374 47136]]\n"
     ]
    }
   ],
   "source": [
    "\n",
    "dt = tree.DecisionTreeClassifier(criterion ='entropy',splitter= 'best',max_depth=10,min_samples_split=2,min_samples_leaf=4,max_features='auto',)\n",
    "dt.fit(features, labels)\n",
    "y_pred_test = dt.predict(test)\n",
    "#print(\"Predicted labels::\", y_pred_test)\n",
    "best_accuracy_entropy_with_kfold = accuracy_score(test_labels, y_pred_test)\n",
    "best_confusion_entropy_with_kfold = confusion_matrix(test_labels, y_pred_test)\n",
    "print(best_accuracy_entropy_with_kfold)\n",
    "print(best_confusion_entropy_with_kfold)"
   ]
  },
  {
   "cell_type": "code",
   "execution_count": null,
   "metadata": {},
   "outputs": [],
   "source": []
  }
 ],
 "metadata": {
  "kernelspec": {
   "display_name": "Python 3",
   "language": "python",
   "name": "python3"
  },
  "language_info": {
   "codemirror_mode": {
    "name": "ipython",
    "version": 3
   },
   "file_extension": ".py",
   "mimetype": "text/x-python",
   "name": "python",
   "nbconvert_exporter": "python",
   "pygments_lexer": "ipython3",
   "version": "3.6.13"
  }
 },
 "nbformat": 4,
 "nbformat_minor": 4
}
