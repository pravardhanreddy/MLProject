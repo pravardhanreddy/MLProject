{
 "cells": [
  {
   "cell_type": "code",
   "execution_count": 5,
   "metadata": {},
   "outputs": [
    {
     "name": "stdout",
     "output_type": "stream",
     "text": [
      "        DepthTree  NumSubclass  McCabe  LOC  DepthNested   CA  CE  \\\n",
      "0               2            0       1    3            1  364  16   \n",
      "1               2            0       1    3            1  364  16   \n",
      "2               2            0       1    3            1  364  16   \n",
      "3               2            0       1    3            1  364  16   \n",
      "4               2            0       1    3            1  364  16   \n",
      "...           ...          ...     ...  ...          ...  ...  ..   \n",
      "591808          3            0       1    3            1    1  11   \n",
      "591809          2            0       1    3            1    1  11   \n",
      "591810          3            0       1    3            1    1  11   \n",
      "591811          1            0       1    3            1    1  11   \n",
      "591812          2            0       1    3            1    1  11   \n",
      "\n",
      "        Instability  numCovered  operator  methodReturn  numTestsCover  \\\n",
      "0             0.042          12         7             7             17   \n",
      "1             0.042          12         7             7             17   \n",
      "2             0.042          12         4             7             17   \n",
      "3             0.042          12         4             7             17   \n",
      "4             0.042          12         4             7             17   \n",
      "...             ...         ...       ...           ...            ...   \n",
      "591808        0.917           0         4             7              0   \n",
      "591809        0.917           0         4             7              0   \n",
      "591810        0.917           0         4             7              0   \n",
      "591811        0.917           0         4             7              0   \n",
      "591812        0.917           6         4             7              2   \n",
      "\n",
      "        mutantAssert  classAssert  isKilled  \n",
      "0                  0            0         0  \n",
      "1                  0            0         0  \n",
      "2                  0            0         0  \n",
      "3                  0            0         0  \n",
      "4                  0            0         0  \n",
      "...              ...          ...       ...  \n",
      "591808             0            0         0  \n",
      "591809             0            0         0  \n",
      "591810             0            0         0  \n",
      "591811             0            0         0  \n",
      "591812             0            0         1  \n",
      "\n",
      "[591813 rows x 15 columns]\n",
      "The shape of our features is: (591813, 15)\n"
     ]
    }
   ],
   "source": [
    "import pandas as pd\n",
    "import numpy as np\n",
    "import matplotlib.pyplot as plt\n",
    "from sklearn.feature_selection import RFE\n",
    "from sklearn.model_selection import cross_val_score,train_test_split\n",
    "from sklearn.metrics import accuracy_score, confusion_matrix, classification_report, precision_recall_fscore_support, f1_score, roc_curve, roc_auc_score, RocCurveDisplay, auc\n",
    "from collections import Counter\n",
    "from sklearn import preprocessing\n",
    "from sklearn.model_selection import RandomizedSearchCV\n",
    "from sklearn.linear_model import LogisticRegression\n",
    "from sklearn import metrics\n",
    "from sklearn.pipeline import Pipeline\n",
    "from sklearn.linear_model import SGDClassifier\n",
    "\n",
    "\n",
    "def convert(data):\n",
    "    number = preprocessing.LabelEncoder()\n",
    "    data['operator'] = number.fit_transform(data.operator)\n",
    "    data['methodReturn'] = number.fit_transform(data.methodReturn)\n",
    "    data['isKilled'] = number.fit_transform(data.isKilled)\n",
    "    return data\n",
    "\n",
    "# Read in data and display first 5 rows\n",
    "features = pd.read_csv('training_data.csv',encoding= 'unicode_escape')\n",
    "#print(features)\n",
    "#print('The shape of our features is:', features.shape)\n",
    "\n",
    "#Convert string to float\n",
    "features=convert(features)\n",
    "print(features)\n",
    "print('The shape of our features is:', features.shape) \n",
    "\n",
    "# Use numpy to convert to arrays\n",
    "# Labels are the values we want to predict\n",
    "labels = np.array(features['isKilled'])\n",
    "# Remove the labels from the features\n",
    "# axis 1 refers to the columns\n",
    "features= features.drop('isKilled', axis = 1)\n",
    "# Saving feature names for later use\n",
    "feature_list = list(features.columns)\n",
    "# Convert to numpy array\n",
    "features = np.array(features)"
   ]
  },
  {
   "cell_type": "code",
   "execution_count": 2,
   "metadata": {},
   "outputs": [],
   "source": [
    "##Input test data\n",
    "positive_prob = []\n",
    "test = pd.read_csv('testing_data.csv',encoding= 'unicode_escape')\n",
    "\n",
    "#Convert string to float\n",
    "test=convert(test)\n",
    "\n",
    "# ## Labels are the values we want to predict\n",
    "test_labels = np.array(test['isKilled'])\n",
    "\n",
    "# # Remove the labels from the features\n",
    "# # axis 1 refers to the columns\n",
    "test= test.drop('isKilled', axis = 1)\n",
    "# # Saving feature names for later use\n",
    "feature_list = list(test.columns)\n",
    "# # Convert to numpy array\n",
    "test = np.array(test)"
   ]
  },
  {
   "cell_type": "code",
   "execution_count": 3,
   "metadata": {},
   "outputs": [
    {
     "name": "stdout",
     "output_type": "stream",
     "text": [
      "(295906, 14) (295906,)\n",
      "(295907, 14) (295907,)\n"
     ]
    }
   ],
   "source": [
    "X_train, X_test, y_train, y_test = train_test_split(features, labels, test_size=0.5,random_state=0)\n",
    "print (X_train.shape, y_train.shape)\n",
    "print (X_test.shape, y_test.shape)"
   ]
  },
  {
   "cell_type": "code",
   "execution_count": 10,
   "metadata": {},
   "outputs": [
    {
     "name": "stdout",
     "output_type": "stream",
     "text": [
      "0.9420223245817098\n",
      "[[217966  17150]\n",
      " [     6  60785]]\n",
      "0.8925733372841634\n",
      "Confusion_matrix:\n",
      " [[77030 15952]\n",
      " [    0 55510]]\n",
      "(0.8925733372841634, 0.8925733372841634, 0.8925733372841634, None)\n",
      "0.8925733372841634\n"
     ]
    }
   ],
   "source": [
    "logregSGD = SGDClassifier(loss=\"log\")\n",
    "\n",
    "logregSGD.fit(X_train, y_train)\n",
    "y_pred_train_logreg = logregSGD.predict(X_test)\n",
    "print(accuracy_score(y_test, y_pred_train_logreg))\n",
    "print(confusion_matrix(y_test, y_pred_train_logreg))\n",
    "\n",
    "y_pred_test = logregSGD.predict(test)\n",
    "\n",
    "print(accuracy_score(test_labels, y_pred_test))\n",
    "confusion = confusion_matrix(test_labels, y_pred_test)\n",
    "print(\"Confusion_matrix:\\n\",confusion)\n",
    "print(precision_recall_fscore_support(test_labels, y_pred_test, average='micro'))\n",
    "print(f1_score(test_labels, y_pred_test, average='micro'))\n"
   ]
  },
  {
   "cell_type": "code",
   "execution_count": 16,
   "metadata": {},
   "outputs": [
    {
     "name": "stdout",
     "output_type": "stream",
     "text": [
      "********* CROSS VALIDATION *************\n",
      "0.9421034311455965\n",
      "[[217990  17126]\n",
      " [     6  60785]]\n",
      "********* TEST *************\n",
      "0.892957196347278\n",
      "Confusion_matrix:\n",
      " [[77087 15895]\n",
      " [    0 55510]]\n",
      "(0.892957196347278, 0.892957196347278, 0.892957196347278, None)\n",
      "0.892957196347278\n",
      "['x0' 'x1' 'x3' 'x4' 'x5' 'x8']\n"
     ]
    }
   ],
   "source": [
    "rfe = RFE(estimator=logregSGD, n_features_to_select=6)\n",
    "rfe_sgd_pipeline = Pipeline(steps=[('r',rfe),('m',logregSGD)])\n",
    "\n",
    "rfe_sgd_pipeline.fit(X_train,y_train)\n",
    "\n",
    "print(\"********* CROSS VALIDATION *************\")\n",
    "y_pred_train_logreg = rfe_sgd_pipeline.predict(X_test)\n",
    "print(accuracy_score(y_test, y_pred_train_logreg))\n",
    "print(confusion_matrix(y_test, y_pred_train_logreg))\n",
    "\n",
    "\n",
    "print(\"********* TEST *************\")\n",
    "y_pred_test = rfe_sgd_pipeline.predict(test)\n",
    "\n",
    "print(accuracy_score(test_labels, y_pred_test))\n",
    "confusion = confusion_matrix(test_labels, y_pred_test)\n",
    "print(\"Confusion_matrix:\\n\",confusion)\n",
    "print(precision_recall_fscore_support(test_labels, y_pred_test, average='micro'))\n",
    "print(f1_score(test_labels, y_pred_test, average='micro'))\n",
    "\n",
    "important_features = rfe.get_feature_names_out()\n",
    "print(important_features)"
   ]
  }
 ],
 "metadata": {
  "interpreter": {
   "hash": "b0fa6594d8f4cbf19f97940f81e996739fb7646882a419484c72d19e05852a7e"
  },
  "kernelspec": {
   "display_name": "Python 3.9.10 64-bit",
   "language": "python",
   "name": "python3"
  },
  "language_info": {
   "codemirror_mode": {
    "name": "ipython",
    "version": 3
   },
   "file_extension": ".py",
   "mimetype": "text/x-python",
   "name": "python",
   "nbconvert_exporter": "python",
   "pygments_lexer": "ipython3",
   "version": "3.9.10"
  },
  "orig_nbformat": 4
 },
 "nbformat": 4,
 "nbformat_minor": 2
}
