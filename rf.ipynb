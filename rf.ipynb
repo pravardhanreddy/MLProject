{
 "cells": [
  {
   "cell_type": "markdown",
   "metadata": {},
   "source": [
    "## Random forest\n",
    "### Data preprocessing using label encoder"
   ]
  },
  {
   "cell_type": "code",
   "execution_count": 4,
   "metadata": {},
   "outputs": [],
   "source": [
    "# Pandas is used for data manipulation\n",
    "import pandas as pd\n",
    "import numpy as np\n",
    "import matplotlib.pyplot as plt\n",
    "from sklearn.model_selection import cross_val_score,train_test_split\n",
    "from sklearn.metrics import accuracy_score, confusion_matrix, classification_report, precision_recall_fscore_support, f1_score, roc_curve, roc_auc_score, RocCurveDisplay, auc\n",
    "from collections import Counter\n",
    "from sklearn import preprocessing\n",
    "from sklearn.model_selection import RandomizedSearchCV\n",
    "from sklearn.ensemble import RandomForestClassifier\n",
    "\n",
    "def convert(data):\n",
    "    number = preprocessing.LabelEncoder()\n",
    "    data['operator'] = number.fit_transform(data.operator)\n",
    "    data['methodReturn'] = number.fit_transform(data.methodReturn)\n",
    "    data['isKilled'] = number.fit_transform(data.isKilled)\n",
    "    return data\n",
    "\n",
    "# Read in data and display first 5 rows\n",
    "features = pd.read_csv('py_files/training_data.csv',encoding= 'unicode_escape')\n",
    "#print(features)\n",
    "#print('The shape of our features is:', features.shape)\n",
    "\n",
    "#Convert string to float\n",
    "features=convert(features)\n",
    "#print(features)\n",
    "#print('The shape of our features is:', features.shape) \n",
    "\n",
    "# Use numpy to convert to arrays\n",
    "# Labels are the values we want to predict\n",
    "np_labels = np.array(features['isKilled'])\n",
    "# Remove the labels from the features\n",
    "# axis 1 refers to the columns\n",
    "features= features.drop('isKilled', axis = 1)\n",
    "# Saving feature names for later use\n",
    "feature_list = list(features.columns)\n",
    "# Convert to numpy array\n",
    "np_features = np.array(features)"
   ]
  },
  {
   "cell_type": "markdown",
   "metadata": {},
   "source": [
    "### Without validation set. Replicating paper"
   ]
  },
  {
   "cell_type": "code",
   "execution_count": 8,
   "metadata": {},
   "outputs": [
    {
     "name": "stdout",
     "output_type": "stream",
     "text": [
      "0.980890923315304\n",
      "[[462772   7418]\n",
      " [  3891 117732]]\n"
     ]
    }
   ],
   "source": [
    "# Instantiate model with 100 decision trees default\n",
    "rf = RandomForestClassifier(random_state = 5,criterion=\"entropy\")\n",
    "rf.fit(np_features, np_labels)\n",
    "y_pred_train = rf.predict(np_features)\n",
    "print(accuracy_score(np_labels, y_pred_train))\n",
    "print(confusion_matrix(np_labels, y_pred_train))"
   ]
  },
  {
   "cell_type": "markdown",
   "metadata": {},
   "source": [
    "### Validation set of size 50%"
   ]
  },
  {
   "cell_type": "code",
   "execution_count": 12,
   "metadata": {},
   "outputs": [
    {
     "name": "stdout",
     "output_type": "stream",
     "text": [
      "(295906, 14) (295906,)\n",
      "(295907, 14) (295907,)\n",
      "0.9568513080123147\n",
      "[[226659   8293]\n",
      " [  4475  56480]]\n"
     ]
    }
   ],
   "source": [
    "##Validation set create training and testing vars\n",
    "X_train, X_test, y_train, y_test = train_test_split(np_features, np_labels, test_size=0.5)\n",
    "print (X_train.shape, y_train.shape)\n",
    "print (X_test.shape, y_test.shape)\n",
    "rf = RandomForestClassifier(random_state = 5,criterion=\"entropy\")\n",
    "rf.fit(X_train, y_train)\n",
    "y_pred_train = rf.predict(X_test)\n",
    "print(accuracy_score(y_test, y_pred_train))\n",
    "print(confusion_matrix(y_test, y_pred_train))"
   ]
  },
  {
   "cell_type": "markdown",
   "metadata": {},
   "source": [
    "### Validation set of size 25%"
   ]
  },
  {
   "cell_type": "code",
   "execution_count": 9,
   "metadata": {},
   "outputs": [
    {
     "name": "stdout",
     "output_type": "stream",
     "text": [
      "(443859, 14) (443859,)\n",
      "(147954, 14) (147954,)\n",
      "0.9578517647376887\n",
      "[[113551   3940]\n",
      " [  2296  28167]]\n"
     ]
    }
   ],
   "source": [
    "##Validation set create training and testing vars\n",
    "X_train, X_test, y_train, y_test = train_test_split(np_features, np_labels, test_size=0.25)\n",
    "print (X_train.shape, y_train.shape)\n",
    "print (X_test.shape, y_test.shape)\n",
    "rf = RandomForestClassifier(random_state = 5,criterion=\"entropy\")\n",
    "rf.fit(X_train, y_train)\n",
    "y_pred_train = rf.predict(X_test)\n",
    "print(accuracy_score(y_test, y_pred_train))\n",
    "print(confusion_matrix(y_test, y_pred_train))"
   ]
  },
  {
   "cell_type": "markdown",
   "metadata": {},
   "source": [
    "### Validation set of size 75%"
   ]
  },
  {
   "cell_type": "code",
   "execution_count": 14,
   "metadata": {},
   "outputs": [
    {
     "name": "stdout",
     "output_type": "stream",
     "text": [
      "(147953, 14) (147953,)\n",
      "(443860, 14) (443860,)\n",
      "0.9540733564637498\n",
      "[[339159  13808]\n",
      " [  6577  84316]]\n"
     ]
    }
   ],
   "source": [
    "##Validation set create training and testing vars\n",
    "X_train, X_test, y_train, y_test = train_test_split(np_features, np_labels, test_size=0.75)\n",
    "print (X_train.shape, y_train.shape)\n",
    "print (X_test.shape, y_test.shape)\n",
    "rf = RandomForestClassifier(random_state = 5,criterion=\"entropy\")\n",
    "rf.fit(X_train, y_train)\n",
    "y_pred_train = rf.predict(X_test)\n",
    "print(accuracy_score(y_test, y_pred_train))\n",
    "print(confusion_matrix(y_test, y_pred_train))"
   ]
  },
  {
   "cell_type": "code",
   "execution_count": null,
   "metadata": {},
   "outputs": [],
   "source": []
  },
  {
   "cell_type": "markdown",
   "metadata": {},
   "source": [
    "### Feature importance with all the features"
   ]
  },
  {
   "cell_type": "code",
   "execution_count": 3,
   "metadata": {},
   "outputs": [
    {
     "data": {
      "image/png": "[encoded data removed]",
      "text/plain": [
       "<Figure size 432x288 with 1 Axes>"
      ]
     },
     "metadata": {
      "needs_background": "light"
     },
     "output_type": "display_data"
    }
   ],
   "source": [
    "##Plot feature importance\n",
    "feature_names = [f\"features {i}\" for i in range(features.shape[1])]\n",
    "feature_names = features.columns\n",
    "#feature_names = ['DepthTree', 'NumSubclass', 'McCabe', 'LOC','DepthNested','CA','CE','Instability','numCovered','operator','methodReturn','numTestsCover','mutantAssert','classAssert']\n",
    "importances = rf.feature_importances_\n",
    "\n",
    "forest_importances = pd.Series(importances, index=feature_names).sort_values(ascending=False)\n",
    "#Feature importance\n",
    "fig, ax = plt.subplots()\n",
    "forest_importances.plot.bar(ax=ax)\n",
    "ax.set_title(\"Feature importances\")\n",
    "ax.set_ylabel(\"Merit\")\n",
    "fig.tight_layout()"
   ]
  },
  {
   "cell_type": "code",
   "execution_count": 7,
   "metadata": {},
   "outputs": [
    {
     "data": {
      "image/png": "[encoded data removed]",
      "text/plain": [
       "<Figure size 432x288 with 1 Axes>"
      ]
     },
     "metadata": {
      "needs_background": "light"
     },
     "output_type": "display_data"
    }
   ],
   "source": [
    "##Plot feature importance based on train test split\n",
    "feature_names = [f\"X_train {i}\" for i in range(X_train.shape[1])]\n",
    "feature_names = ['DepthTree', 'NumSubclass', 'McCabe', 'LOC','DepthNested','CA','CE','Instability','numCovered','operator','methodReturn','numTestsCover','mutantAssert','classAssert']\n",
    "importances = rf.feature_importances_\n",
    "\n",
    "forest_importances = pd.Series(importances, index=feature_names).sort_values(ascending=False)\n",
    "#Feature importance\n",
    "fig, ax = plt.subplots()\n",
    "forest_importances.plot.bar(ax=ax)\n",
    "ax.set_title(\"Feature importances\")\n",
    "ax.set_ylabel(\"Merit\")\n",
    "fig.tight_layout()"
   ]
  },
  {
   "cell_type": "markdown",
   "metadata": {},
   "source": [
    "### Feature selection based on Recursive Feature Elimination"
   ]
  },
  {
   "cell_type": "code",
   "execution_count": 38,
   "metadata": {},
   "outputs": [
    {
     "name": "stdout",
     "output_type": "stream",
     "text": [
      "[False False False  True False  True  True  True  True  True False  True\n",
      "  True  True]\n",
      "[5 6 2 1 4 1 1 1 1 1 3 1 1 1]\n"
     ]
    }
   ],
   "source": [
    "from sklearn.feature_selection import RFE\n",
    "\n",
    "#Initializing RFE model\n",
    "rfe = RFE(rf, n_features_to_select=9, step=1)\n",
    "#Transforming data using RFE\n",
    "#X_rfe = rfe.fit(np_features, np_labels)  \n",
    "selector = rfe.fit(np_features, np_labels)\n",
    "print(selector.support_)\n",
    "print(selector.ranking_)"
   ]
  },
  {
   "cell_type": "code",
   "execution_count": 36,
   "metadata": {},
   "outputs": [
    {
     "ename": "AttributeError",
     "evalue": "'RFE' object has no attribute 'get_feature_names_out'",
     "output_type": "error",
     "traceback": [
      "\u001b[0;31m---------------------------------------------------------------------------\u001b[0m",
      "\u001b[0;31mAttributeError\u001b[0m                            Traceback (most recent call last)",
      "\u001b[0;32m<ipython-input-36-1d7cde68938c>\u001b[0m in \u001b[0;36m<module>\u001b[0;34m\u001b[0m\n\u001b[0;32m----> 1\u001b[0;31m \u001b[0mprint\u001b[0m\u001b[0;34m(\u001b[0m\u001b[0mrfe\u001b[0m\u001b[0;34m.\u001b[0m\u001b[0mget_feature_names_out\u001b[0m\u001b[0;34m(\u001b[0m\u001b[0minput_features\u001b[0m\u001b[0;34m=\u001b[0m\u001b[0;32mNone\u001b[0m\u001b[0;34m)\u001b[0m\u001b[0;34m)\u001b[0m\u001b[0;34m\u001b[0m\u001b[0;34m\u001b[0m\u001b[0m\n\u001b[0m",
      "\u001b[0;31mAttributeError\u001b[0m: 'RFE' object has no attribute 'get_feature_names_out'"
     ]
    }
   ],
   "source": [
    "print(rfe.get_feature_names_out(input_features=None))"
   ]
  },
  {
   "cell_type": "code",
   "execution_count": null,
   "metadata": {},
   "outputs": [],
   "source": [
    "#no of features\n",
    "nof_list=np.arange(1,14)            \n",
    "high_score=0\n",
    "#Variable to store the optimum features\n",
    "nof=0           \n",
    "score_list =[]\n",
    "for n in range(len(nof_list)):\n",
    "    X_train, X_test, y_train, y_test = train_test_split(np_features, np_labels, test_size=0.5, random_state = 5)\n",
    "    model = RandomForestClassifier(random_state = 5,criterion=\"entropy\")\n",
    "    rfe = RFE(model,nof_list[n])\n",
    "    X_train_rfe = rfe.fit_transform(X_train,y_train)\n",
    "    X_test_rfe = rfe.transform(X_test)\n",
    "    model.fit(X_train_rfe,y_train)\n",
    "    score = model.score(X_test_rfe,y_test)\n",
    "    score_list.append(score)\n",
    "    if(score>high_score):\n",
    "        high_score = score\n",
    "        nof = nof_list[n]\n",
    "        print (nof)\n",
    "print(\"Optimum number of features: %d\" %nof)\n",
    "print(\"Score with %d features: %f\" % (nof, high_score))\n",
    "print(rfe.get_feature_names_out())"
   ]
  },
  {
   "cell_type": "markdown",
   "metadata": {},
   "source": [
    "### Testing in test data"
   ]
  },
  {
   "cell_type": "code",
   "execution_count": 7,
   "metadata": {},
   "outputs": [
    {
     "name": "stdout",
     "output_type": "stream",
     "text": [
      "0.8614268782156614\n",
      "Confusion_matrix:\n",
      " [[79692 13290]\n",
      " [ 7287 48223]]\n",
      "(0.8614268782156614, 0.8614268782156614, 0.8614268782156614, None)\n",
      "0.8614268782156614\n"
     ]
    }
   ],
   "source": [
    "test = pd.read_csv('py_files/testing_data.csv',encoding= 'unicode_escape')\n",
    "\n",
    "#Convert string to float\n",
    "test=convert(test)\n",
    "\n",
    "# ## Labels are the values we want to predict\n",
    "np_test_labels = np.array(test['isKilled'])\n",
    "\n",
    "# # Remove the labels from the features\n",
    "# # axis 1 refers to the columns\n",
    "test= test.drop('isKilled', axis = 1)\n",
    "# # Saving feature names for later use\n",
    "feature_list = list(test.columns)\n",
    "# # Convert to numpy array\n",
    "np_test = np.array(test)\n",
    "y_pred_test = rf.predict(np_test)\n",
    "#print(\"Predicted labels::\", y_pred_test)\n",
    "print(accuracy_score(np_test_labels, y_pred_test))\n",
    "confusion = confusion_matrix(np_test_labels, y_pred_test)\n",
    "print(\"Confusion_matrix:\\n\",confusion)\n",
    "print(precision_recall_fscore_support(np_test_labels, y_pred_test, average='micro'))\n",
    "print(f1_score(np_test_labels, y_pred_test, average='micro'))"
   ]
  },
  {
   "cell_type": "markdown",
   "metadata": {},
   "source": [
    "### Test result for 25% trained data"
   ]
  },
  {
   "cell_type": "code",
   "execution_count": 11,
   "metadata": {},
   "outputs": [
    {
     "name": "stdout",
     "output_type": "stream",
     "text": [
      "0.8608679255448105\n",
      "Confusion_matrix:\n",
      " [[80594 12388]\n",
      " [ 8272 47238]]\n",
      "(0.8608679255448105, 0.8608679255448105, 0.8608679255448105, None)\n",
      "0.8608679255448105\n"
     ]
    }
   ],
   "source": [
    "test = pd.read_csv('py_files/testing_data.csv',encoding= 'unicode_escape')\n",
    "\n",
    "#Convert string to float\n",
    "test=convert(test)\n",
    "\n",
    "# ## Labels are the values we want to predict\n",
    "np_test_labels = np.array(test['isKilled'])\n",
    "\n",
    "# # Remove the labels from the features\n",
    "# # axis 1 refers to the columns\n",
    "test= test.drop('isKilled', axis = 1)\n",
    "# # Saving feature names for later use\n",
    "feature_list = list(test.columns)\n",
    "# # Convert to numpy array\n",
    "np_test = np.array(test)\n",
    "y_pred_test = rf.predict(np_test)\n",
    "#print(\"Predicted labels::\", y_pred_test)\n",
    "print(accuracy_score(np_test_labels, y_pred_test))\n",
    "confusion = confusion_matrix(np_test_labels, y_pred_test)\n",
    "print(\"Confusion_matrix:\\n\",confusion)\n",
    "print(precision_recall_fscore_support(np_test_labels, y_pred_test, average='micro'))\n",
    "print(f1_score(np_test_labels, y_pred_test, average='micro'))"
   ]
  },
  {
   "cell_type": "markdown",
   "metadata": {},
   "source": [
    "### Test result for 50% trained data"
   ]
  },
  {
   "cell_type": "code",
   "execution_count": 13,
   "metadata": {},
   "outputs": [
    {
     "name": "stdout",
     "output_type": "stream",
     "text": [
      "0.8600598012014116\n",
      "Confusion_matrix:\n",
      " [[80774 12208]\n",
      " [ 8572 46938]]\n",
      "(0.8600598012014116, 0.8600598012014116, 0.8600598012014116, None)\n",
      "0.8600598012014116\n"
     ]
    }
   ],
   "source": [
    "# # Convert to numpy array\n",
    "np_test = np.array(test)\n",
    "y_pred_test = rf.predict(np_test)\n",
    "#print(\"Predicted labels::\", y_pred_test)\n",
    "print(accuracy_score(np_test_labels, y_pred_test))\n",
    "confusion = confusion_matrix(np_test_labels, y_pred_test)\n",
    "print(\"Confusion_matrix:\\n\",confusion)\n",
    "print(precision_recall_fscore_support(np_test_labels, y_pred_test, average='micro'))\n",
    "print(f1_score(np_test_labels, y_pred_test, average='micro'))"
   ]
  },
  {
   "cell_type": "markdown",
   "metadata": {},
   "source": [
    "### Test result for 75% trained data"
   ]
  },
  {
   "cell_type": "code",
   "execution_count": 15,
   "metadata": {},
   "outputs": [
    {
     "name": "stdout",
     "output_type": "stream",
     "text": [
      "0.8640532823317081\n",
      "Confusion_matrix:\n",
      " [[81078 11904]\n",
      " [ 8283 47227]]\n",
      "(0.8640532823317081, 0.8640532823317081, 0.8640532823317081, None)\n",
      "0.8640532823317081\n"
     ]
    }
   ],
   "source": [
    "# # Convert to numpy array\n",
    "np_test = np.array(test)\n",
    "y_pred_test = rf.predict(np_test)\n",
    "#print(\"Predicted labels::\", y_pred_test)\n",
    "print(accuracy_score(np_test_labels, y_pred_test))\n",
    "confusion = confusion_matrix(np_test_labels, y_pred_test)\n",
    "print(\"Confusion_matrix:\\n\",confusion)\n",
    "print(precision_recall_fscore_support(np_test_labels, y_pred_test, average='micro'))\n",
    "print(f1_score(np_test_labels, y_pred_test, average='micro'))"
   ]
  },
  {
   "cell_type": "markdown",
   "metadata": {},
   "source": [
    "### Dropping DepthTree, methodReturn, DepthNested, Mutant assert brute force. "
   ]
  },
  {
   "cell_type": "code",
   "execution_count": 25,
   "metadata": {},
   "outputs": [
    {
     "name": "stdout",
     "output_type": "stream",
     "text": [
      "The shape of our features is: (591813, 10)\n",
      "0.9553305599394404\n",
      "[[226600   8631]\n",
      " [  4587  56089]]\n"
     ]
    }
   ],
   "source": [
    "new_features= features.drop('DepthTree', axis = 1)\n",
    "new_features= new_features.drop('methodReturn', axis = 1)\n",
    "new_features= new_features.drop('DepthNested', axis = 1)\n",
    "new_features= new_features.drop('mutantAssert', axis = 1)\n",
    "print('The shape of our features is:', new_features.shape)\n",
    "# Convert to numpy array\n",
    "np_features = np.array(new_features)\n",
    "X_train, X_test, y_train, y_test = train_test_split(np_features, np_labels, test_size=0.5, random_state = 5)\n",
    "# Instantiate model with 100 decision trees default\n",
    "rf = RandomForestClassifier(random_state = 5,criterion=\"entropy\")\n",
    "rf.fit(X_train, y_train)\n",
    "y_pred_train = rf.predict(X_test)\n",
    "print(accuracy_score(y_test, y_pred_train))\n",
    "print(confusion_matrix(y_test, y_pred_train))"
   ]
  },
  {
   "cell_type": "markdown",
   "metadata": {},
   "source": [
    "### Testing on test data"
   ]
  },
  {
   "cell_type": "code",
   "execution_count": 26,
   "metadata": {},
   "outputs": [
    {
     "name": "stdout",
     "output_type": "stream",
     "text": [
      "The shape of our features is: (148492, 10)\n",
      "0.8709694798372977\n",
      "Confusion_matrix:\n",
      " [[81399 11583]\n",
      " [ 7577 47933]]\n",
      "(0.8709694798372977, 0.8709694798372977, 0.8709694798372978, None)\n",
      "0.8709694798372978\n"
     ]
    }
   ],
   "source": [
    "new_test= test.drop('DepthTree', axis = 1)\n",
    "new_test= new_test.drop('methodReturn', axis = 1)\n",
    "new_test= new_test.drop('DepthNested', axis = 1)\n",
    "new_test= new_test.drop('mutantAssert', axis = 1)\n",
    "print('The shape of our features is:', new_test.shape) \n",
    "# # Convert to numpy array\n",
    "np_test = np.array(new_test)\n",
    "y_pred_test = rf.predict(np_test)\n",
    "#print(\"Predicted labels::\", y_pred_test)\n",
    "print(accuracy_score(np_test_labels, y_pred_test))\n",
    "confusion = confusion_matrix(np_test_labels, y_pred_test)\n",
    "print(\"Confusion_matrix:\\n\",confusion)\n",
    "print(precision_recall_fscore_support(np_test_labels, y_pred_test, average='micro'))\n",
    "print(f1_score(np_test_labels, y_pred_test, average='micro'))"
   ]
  },
  {
   "cell_type": "code",
   "execution_count": 27,
   "metadata": {},
   "outputs": [
    {
     "data": {
      "image/png": "[encoded data removed]",
      "text/plain": [
       "<Figure size 432x288 with 1 Axes>"
      ]
     },
     "metadata": {
      "needs_background": "light"
     },
     "output_type": "display_data"
    }
   ],
   "source": [
    "##Plot feature importance\n",
    "feature_names = [f\"new_features {i}\" for i in range(new_features.shape[1])]\n",
    "feature_names = ['NumSubclass', 'McCabe', 'LOC', 'CA', 'CE',\n",
    "       'Instability', 'numCovered', 'operator',\n",
    "       'numTestsCover', 'classAssert']\n",
    "importances = rf.feature_importances_\n",
    "\n",
    "forest_importances = pd.Series(importances, index=feature_names).sort_values(ascending=False)\n",
    "#Feature importance\n",
    "fig, ax = plt.subplots()\n",
    "forest_importances.plot.bar(ax=ax)\n",
    "ax.set_title(\"Feature importances\")\n",
    "ax.set_ylabel(\"Merit\")\n",
    "fig.tight_layout()"
   ]
  },
  {
   "cell_type": "markdown",
   "metadata": {},
   "source": [
    "### Grid search for reduced 11 features"
   ]
  },
  {
   "cell_type": "code",
   "execution_count": null,
   "metadata": {},
   "outputs": [],
   "source": [
    "from sklearn.model_selection import GridSearchCV\n",
    "\n",
    "#Hyper parameter tuning\n",
    "# Number of trees in random forest\n",
    "n_estimators = [int(x) for x in np.linspace(start = 50, stop = 300, num = 6)]\n",
    "# Maximum number of levels in tree\n",
    "max_depth = [10,20]\n",
    "max_depth.append(None)\n",
    "# Minimum number of samples required to split a node\n",
    "min_samples_split = [2, 5]\n",
    "# Minimum number of samples required at each leaf node\n",
    "min_samples_leaf = [1, 2]\n",
    "#Criterion to getinformation gain\n",
    "criterion = ['entropy','gini']\n",
    "# Create the  grid\n",
    "grid = {'n_estimators': n_estimators,\n",
    "               'max_features': max_features,\n",
    "               'max_depth': max_depth,\n",
    "               'min_samples_split': min_samples_split,\n",
    "               'min_samples_leaf': min_samples_leaf,\n",
    "               'bootstrap': bootstrap,\n",
    "               'criterion': criterion}\n",
    "print(grid)\n",
    "\n",
    "# Import the model we are using\n",
    "rf = RandomForestClassifier(random_state = 5)\n",
    "# Use the grid to search for best hyperparameters\n",
    "# First create the base model to tune\n",
    "rf_random = GridSearchCV(estimator = rf, param_grid = grid)\n",
    "rf_random.fit(np_features, np_labels)\n",
    "print(rf_random.best_params_)"
   ]
  },
  {
   "cell_type": "code",
   "execution_count": 1,
   "metadata": {},
   "outputs": [
    {
     "name": "stderr",
     "output_type": "stream",
     "text": [
      "Intel(R) Extension for Scikit-learn* enabled (https://github.com/intel/scikit-learn-intelex)\n"
     ]
    }
   ],
   "source": [
    "from sklearnex import patch_sklearn\n",
    "patch_sklearn()"
   ]
  },
  {
   "cell_type": "code",
   "execution_count": 8,
   "metadata": {},
   "outputs": [
    {
     "name": "stdout",
     "output_type": "stream",
     "text": [
      "For estimator 50  for max_depth: 10 for min_samples_split 2 for criterion entropy\n",
      "***Validation accuracy***\n",
      "0.9472773540335309\n",
      "***Test accuracy***\n",
      "0.8702758397758802\n",
      "For estimator 50  for max_depth: 10 for min_samples_split 2 for criterion gini\n",
      "***Validation accuracy***\n",
      "0.9480275897494821\n",
      "***Test accuracy***\n",
      "0.8506586213398701\n",
      "For estimator 50  for max_depth: 10 for min_samples_split 5 for criterion entropy\n",
      "***Validation accuracy***\n",
      "0.9474192905203324\n",
      "***Test accuracy***\n",
      "0.872262478786736\n",
      "For estimator 50  for max_depth: 10 for min_samples_split 5 for criterion gini\n",
      "***Validation accuracy***\n",
      "0.9477301990152311\n",
      "***Test accuracy***\n",
      "0.853412978476955\n",
      "For estimator 50  for max_depth: 20 for min_samples_split 2 for criterion entropy\n",
      "***Validation accuracy***\n",
      "0.9581828074361202\n",
      "***Test accuracy***\n",
      "0.8539988686259192\n",
      "For estimator 50  for max_depth: 20 for min_samples_split 2 for criterion gini\n",
      "***Validation accuracy***\n",
      "0.9583551588843792\n",
      "***Test accuracy***\n",
      "0.8470489992726881\n",
      "For estimator 50  for max_depth: 20 for min_samples_split 5 for criterion entropy\n",
      "***Validation accuracy***\n",
      "0.9580510092698044\n",
      "***Test accuracy***\n",
      "0.8642081728308596\n",
      "For estimator 50  for max_depth: 20 for min_samples_split 5 for criterion gini\n",
      "***Validation accuracy***\n",
      "0.9585410280932861\n",
      "***Test accuracy***\n",
      "0.8435403927484308\n",
      "For estimator 50  for max_depth: None for min_samples_split 2 for criterion entropy\n",
      "***Validation accuracy***\n",
      "0.9562903209454322\n",
      "***Test accuracy***\n",
      "0.8617635966920777\n",
      "For estimator 50  for max_depth: None for min_samples_split 2 for criterion gini\n",
      "***Validation accuracy***\n",
      "0.956888481854096\n",
      "***Test accuracy***\n",
      "0.8414123319774802\n",
      "For estimator 50  for max_depth: None for min_samples_split 5 for criterion entropy\n",
      "***Validation accuracy***\n",
      "0.9582706728803306\n",
      "***Test accuracy***\n",
      "0.8794413167039302\n",
      "For estimator 50  for max_depth: None for min_samples_split 5 for criterion gini\n",
      "***Validation accuracy***\n",
      "0.9575711287668085\n",
      "***Test accuracy***\n",
      "0.8490693101311855\n",
      "For estimator 100  for max_depth: 10 for min_samples_split 2 for criterion entropy\n",
      "***Validation accuracy***\n",
      "0.9471218997860814\n",
      "***Test accuracy***\n",
      "0.8678918729628532\n",
      "For estimator 100  for max_depth: 10 for min_samples_split 2 for criterion gini\n",
      "***Validation accuracy***\n",
      "0.9478890327028424\n",
      "***Test accuracy***\n",
      "0.8584637556231985\n",
      "For estimator 100  for max_depth: 10 for min_samples_split 5 for criterion entropy\n",
      "***Validation accuracy***\n",
      "0.9473719783580652\n",
      "***Test accuracy***\n",
      "0.8691714031732349\n",
      "For estimator 100  for max_depth: 10 for min_samples_split 5 for criterion gini\n",
      "***Validation accuracy***\n",
      "0.9478822738225186\n",
      "***Test accuracy***\n",
      "0.8628208927080246\n",
      "For estimator 100  for max_depth: 20 for min_samples_split 2 for criterion entropy\n",
      "***Validation accuracy***\n",
      "0.9582943289614643\n",
      "***Test accuracy***\n",
      "0.8554198205963958\n",
      "For estimator 100  for max_depth: 20 for min_samples_split 2 for criterion gini\n",
      "***Validation accuracy***\n",
      "0.958307846722112\n",
      "***Test accuracy***\n",
      "0.8567060851763058\n",
      "For estimator 100  for max_depth: 20 for min_samples_split 5 for criterion entropy\n",
      "***Validation accuracy***\n",
      "0.9581490130345007\n",
      "***Test accuracy***\n",
      "0.8645448913072759\n",
      "For estimator 100  for max_depth: 20 for min_samples_split 5 for criterion gini\n",
      "***Validation accuracy***\n",
      "0.9584937159310188\n",
      "***Test accuracy***\n",
      "0.85339277536837\n",
      "For estimator 100  for max_depth: None for min_samples_split 2 for criterion entropy\n",
      "***Validation accuracy***\n",
      "0.9563342536675374\n",
      "***Test accuracy***\n",
      "0.8580933652991407\n",
      "For estimator 100  for max_depth: None for min_samples_split 2 for criterion gini\n",
      "***Validation accuracy***\n",
      "0.957131801545756\n",
      "***Test accuracy***\n",
      "0.8513118551841177\n",
      "For estimator 100  for max_depth: None for min_samples_split 5 for criterion entropy\n",
      "***Validation accuracy***\n",
      "0.9584362654482659\n",
      "***Test accuracy***\n",
      "0.8680063572448348\n",
      "For estimator 100  for max_depth: None for min_samples_split 5 for criterion gini\n",
      "***Validation accuracy***\n",
      "0.9577265830142578\n",
      "***Test accuracy***\n",
      "0.855009024055168\n",
      "For estimator 200  for max_depth: 10 for min_samples_split 2 for criterion entropy\n",
      "***Validation accuracy***\n",
      "0.9472401801917494\n",
      "***Test accuracy***\n",
      "0.8630296581634027\n",
      "For estimator 200  for max_depth: 10 for min_samples_split 2 for criterion gini\n",
      "***Validation accuracy***\n",
      "0.9479498626257574\n",
      "***Test accuracy***\n",
      "0.862807423968968\n",
      "For estimator 200  for max_depth: 10 for min_samples_split 5 for criterion entropy\n",
      "***Validation accuracy***\n",
      "0.9474091521998466\n",
      "***Test accuracy***\n",
      "0.8597432858335803\n",
      "For estimator 200  for max_depth: 10 for min_samples_split 5 for criterion gini\n",
      "***Validation accuracy***\n",
      "0.9479937953478627\n",
      "***Test accuracy***\n",
      "0.8634202515960456\n",
      "For estimator 200  for max_depth: 20 for min_samples_split 2 for criterion entropy\n",
      "***Validation accuracy***\n",
      "0.9583281233630837\n",
      "***Test accuracy***\n",
      "0.858430083775557\n",
      "For estimator 200  for max_depth: 20 for min_samples_split 2 for criterion gini\n",
      "***Validation accuracy***\n",
      "0.958486957050695\n",
      "***Test accuracy***\n",
      "0.8588408803167847\n",
      "For estimator 200  for max_depth: 20 for min_samples_split 5 for criterion entropy\n",
      "***Validation accuracy***\n",
      "0.9583281233630837\n",
      "***Test accuracy***\n",
      "0.8582549901678205\n",
      "For estimator 200  for max_depth: 20 for min_samples_split 5 for criterion gini\n",
      "***Validation accuracy***\n",
      "0.9585646841744196\n",
      "***Test accuracy***\n",
      "0.8587870053605582\n",
      "For estimator 200  for max_depth: None for min_samples_split 2 for criterion entropy\n",
      "***Validation accuracy***\n",
      "0.9565302611969301\n",
      "***Test accuracy***\n",
      "0.8580462247124424\n",
      "For estimator 200  for max_depth: None for min_samples_split 2 for criterion gini\n",
      "***Validation accuracy***\n",
      "0.9571689753875373\n",
      "***Test accuracy***\n",
      "0.857790318670366\n",
      "For estimator 200  for max_depth: None for min_samples_split 5 for criterion entropy\n",
      "***Validation accuracy***\n",
      "0.9583957121663226\n",
      "***Test accuracy***\n",
      "0.8560797888101715\n",
      "For estimator 200  for max_depth: None for min_samples_split 5 for criterion gini\n",
      "***Validation accuracy***\n",
      "0.9578110690183065\n",
      "***Test accuracy***\n",
      "0.8573929908681949\n",
      "For estimator 250  for max_depth: 10 for min_samples_split 2 for criterion entropy\n",
      "***Validation accuracy***\n",
      "0.9472604568327211\n",
      "***Test accuracy***\n",
      "0.8609015973924521\n",
      "For estimator 250  for max_depth: 10 for min_samples_split 2 for criterion gini\n",
      "***Validation accuracy***\n",
      "0.9479667598265671\n",
      "***Test accuracy***\n",
      "0.8621407213856639\n",
      "For estimator 250  for max_depth: 10 for min_samples_split 5 for criterion entropy\n",
      "***Validation accuracy***\n",
      "0.9474159110801704\n",
      "***Test accuracy***\n",
      "0.8588274115777281\n",
      "For estimator 250  for max_depth: 10 for min_samples_split 5 for criterion gini\n",
      "***Validation accuracy***\n",
      "0.9480005542281865\n",
      "***Test accuracy***\n",
      "0.8636492201600087\n",
      "For estimator 250  for max_depth: 20 for min_samples_split 2 for criterion entropy\n",
      "***Validation accuracy***\n",
      "0.9582672934401687\n",
      "***Test accuracy***\n",
      "0.8580664278210274\n",
      "For estimator 250  for max_depth: 20 for min_samples_split 2 for criterion gini\n",
      "***Validation accuracy***\n",
      "0.9584531626490755\n",
      "***Test accuracy***\n",
      "0.8582415214287639\n",
      "For estimator 250  for max_depth: 20 for min_samples_split 5 for criterion entropy\n",
      "***Validation accuracy***\n",
      "0.9583112261622739\n",
      "***Test accuracy***\n",
      "0.8548945397731864\n",
      "For estimator 250  for max_depth: 20 for min_samples_split 5 for criterion gini\n",
      "***Validation accuracy***\n",
      "0.9585613047342577\n",
      "***Test accuracy***\n",
      "0.8597769576812219\n",
      "For estimator 250  for max_depth: None for min_samples_split 2 for criterion entropy\n",
      "***Validation accuracy***\n",
      "0.9566012294403309\n",
      "***Test accuracy***\n",
      "0.8563087573741346\n",
      "For estimator 250  for max_depth: None for min_samples_split 2 for criterion gini\n",
      "***Validation accuracy***\n",
      "0.9572669791522337\n",
      "***Test accuracy***\n",
      "0.8563289604827196\n",
      "For estimator 250  for max_depth: None for min_samples_split 5 for criterion entropy\n",
      "***Validation accuracy***\n",
      "0.9583754355253509\n",
      "***Test accuracy***\n",
      "0.8547867898607332\n",
      "For estimator 250  for max_depth: None for min_samples_split 5 for criterion gini\n",
      "***Validation accuracy***\n",
      "0.9578583811805736\n",
      "***Test accuracy***\n",
      "0.8580058184952725\n",
      "For estimator 500  for max_depth: 10 for min_samples_split 2 for criterion entropy\n",
      "***Validation accuracy***\n",
      "0.9472773540335309\n",
      "***Test accuracy***\n",
      "0.8625245804487783\n",
      "For estimator 500  for max_depth: 10 for min_samples_split 2 for criterion gini\n",
      "***Validation accuracy***\n",
      "0.9477876494979842\n",
      "***Test accuracy***\n",
      "0.8631845486625542\n",
      "For estimator 500  for max_depth: 10 for min_samples_split 5 for criterion entropy\n",
      "***Validation accuracy***\n",
      "0.9474226699604943\n",
      "***Test accuracy***\n",
      "0.8620868464294372\n",
      "For estimator 500  for max_depth: 10 for min_samples_split 5 for criterion gini\n",
      "***Validation accuracy***\n",
      "0.9477572345365267\n",
      "***Test accuracy***\n",
      "0.8632047517711392\n",
      "For estimator 500  for max_depth: 20 for min_samples_split 2 for criterion entropy\n",
      "***Validation accuracy***\n",
      "0.9582334990385493\n",
      "***Test accuracy***\n",
      "0.8595075829000889\n",
      "For estimator 500  for max_depth: 20 for min_samples_split 2 for criterion gini\n",
      "***Validation accuracy***\n",
      "0.9584666804097233\n",
      "***Test accuracy***\n",
      "0.8603561134606578\n",
      "For estimator 500  for max_depth: 20 for min_samples_split 5 for criterion entropy\n",
      "***Validation accuracy***\n",
      "0.9582064635172537\n",
      "***Test accuracy***\n",
      "0.8566993508067775\n",
      "For estimator 500  for max_depth: 20 for min_samples_split 5 for criterion gini\n",
      "***Validation accuracy***\n",
      "0.9586424112981443\n",
      "***Test accuracy***\n",
      "0.8596624733992404\n",
      "For estimator 500  for max_depth: None for min_samples_split 2 for criterion entropy\n",
      "***Validation accuracy***\n",
      "0.9566857154443795\n",
      "***Test accuracy***\n",
      "0.8579452091695176\n",
      "For estimator 500  for max_depth: None for min_samples_split 2 for criterion gini\n",
      "***Validation accuracy***\n",
      "0.9573210501948247\n",
      "***Test accuracy***\n",
      "0.858928427120653\n",
      "For estimator 500  for max_depth: None for min_samples_split 5 for criterion entropy\n",
      "***Validation accuracy***\n",
      "0.9583923327261605\n",
      "***Test accuracy***\n",
      "0.8558912264633785\n",
      "For estimator 500  for max_depth: None for min_samples_split 5 for criterion gini\n",
      "***Validation accuracy***\n",
      "0.9579327288641364\n",
      "***Test accuracy***\n",
      "0.8580866309296123\n"
     ]
    }
   ],
   "source": [
    "##Validation set create training and testing vars\n",
    "size = [0.5]\n",
    "for i in size:\n",
    "    validation_accuracy  = 0.0\n",
    "    test_accuracy = 0.0\n",
    "    X_train, X_test, y_train, y_test = train_test_split(np_features, np_labels, train_size=i)\n",
    "    n_estimator = [50,100,200,250,500]\n",
    "    max_depth = [10,20,None]\n",
    "    criterion = ['entropy','gini']\n",
    "    min_samples_split = [2,5]\n",
    "    for l in n_estimator:\n",
    "        for k in max_depth:\n",
    "            for n in min_samples_split:\n",
    "                for m in criterion:\n",
    "                    rf = RandomForestClassifier(random_state = 5,criterion=m,n_estimators = l, max_depth = k, min_samples_split = n)\n",
    "                    rf.fit(X_train, y_train)\n",
    "                    y_pred = rf.predict(X_test)\n",
    "                    y_pred_test = rf.predict(np_test)\n",
    "                    print(\"For estimator\",l, \" for max_depth:\",k, \"for min_samples_split\", n, \"for criterion\", m)\n",
    "                    print(\"***Validation accuracy***\")\n",
    "                    print(accuracy_score(y_test, y_pred))\n",
    "                    print(\"***Test accuracy***\")\n",
    "                    print(accuracy_score(np_test_labels, y_pred_test))"
   ]
  },
  {
   "cell_type": "code",
   "execution_count": 10,
   "metadata": {},
   "outputs": [
    {
     "name": "stdout",
     "output_type": "stream",
     "text": [
      "***Test accuracy***\n",
      "0.872262478786736\n",
      "Confusion_matrix:\n",
      " [[78725 14257]\n",
      " [ 4711 50799]]\n"
     ]
    }
   ],
   "source": [
    "rf = RandomForestClassifier(random_state = 5,criterion='entropy',n_estimators = 50, max_depth = 10, min_samples_split = 5)\n",
    "rf.fit(X_train, y_train)\n",
    "y_pred_test = rf.predict(np_test)\n",
    "print(\"***Test accuracy***\")\n",
    "print(accuracy_score(np_test_labels, y_pred_test))\n",
    "confusion = confusion_matrix(np_test_labels, y_pred_test)\n",
    "print(\"Confusion_matrix:\\n\",confusion)"
   ]
  },
  {
   "cell_type": "code",
   "execution_count": 12,
   "metadata": {},
   "outputs": [
    {
     "name": "stdout",
     "output_type": "stream",
     "text": [
      "***Test accuracy***\n",
      "0.8664035772970935\n",
      "Confusion_matrix:\n",
      " [[79326 13656]\n",
      " [ 6182 49328]]\n"
     ]
    }
   ],
   "source": [
    "rf = RandomForestClassifier(random_state = 5,criterion='entropy',n_estimators = 50, max_depth = 10, min_samples_split = 5, min_samples_leaf=2)\n",
    "rf.fit(X_train, y_train)\n",
    "y_pred_test = rf.predict(np_test)\n",
    "print(\"***Test accuracy***\")\n",
    "print(accuracy_score(np_test_labels, y_pred_test))\n",
    "confusion = confusion_matrix(np_test_labels, y_pred_test)\n",
    "print(\"Confusion_matrix:\\n\",confusion)"
   ]
  },
  {
   "cell_type": "code",
   "execution_count": null,
   "metadata": {},
   "outputs": [],
   "source": []
  }
 ],
 "metadata": {
  "kernelspec": {
   "display_name": "Python 3",
   "language": "python",
   "name": "python3"
  },
  "language_info": {
   "codemirror_mode": {
    "name": "ipython",
    "version": 3
   },
   "file_extension": ".py",
   "mimetype": "text/x-python",
   "name": "python",
   "nbconvert_exporter": "python",
   "pygments_lexer": "ipython3",
   "version": "3.8.3"
  }
 },
 "nbformat": 4,
 "nbformat_minor": 4
}
