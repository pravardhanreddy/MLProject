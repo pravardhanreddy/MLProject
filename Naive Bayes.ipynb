{
 "cells": [
  {
   "cell_type": "code",
   "execution_count": 1,
   "id": "be1a3a1a",
   "metadata": {},
   "outputs": [],
   "source": [
    "import numpy as np\n",
    "import pandas as pd\n",
    "from sklearn.model_selection import cross_val_score\n",
    "from sklearn.naive_bayes import GaussianNB\n",
    "from sklearn.metrics import accuracy_score, confusion_matrix\n",
    "from sklearn.naive_bayes import GaussianNB\n",
    "from sklearn.model_selection import train_test_split,GridSearchCV\n",
    "from sklearn import preprocessing\n",
    "import matplotlib.pyplot as plt\n",
    "import seaborn as sns\n",
    "sns.set_style(\"whitegrid\")\n",
    "import warnings\n",
    "warnings.filterwarnings(\"ignore\")\n",
    "import scipy.stats as stats\n",
    "\n"
   ]
  },
  {
   "cell_type": "code",
   "execution_count": 2,
   "id": "06cda0c8",
   "metadata": {},
   "outputs": [],
   "source": [
    "\n",
    "\n",
    "def convert(data):\n",
    "    number = preprocessing.LabelEncoder()\n",
    "    data['operator'] = number.fit_transform(data.operator)\n",
    "    data['methodReturn'] = number.fit_transform(data.methodReturn)\n",
    "    data['isKilled'] = number.fit_transform(data.isKilled)\n",
    "    return data\n",
    "\n",
    "# Read in data and display first 5 rows\n",
    "features = pd.read_csv('/home/akash/Documents/repos/MLProject/training_data.csv',encoding= 'unicode_escape')\n",
    "#print(features)\n",
    "#print('The shape of our features is:', features.shape)\n",
    "\n",
    "#Convert string to float\n",
    "features=convert(features)\n",
    "#print(features)\n",
    "#print('The shape of our features is:', features.shape) \n",
    "\n",
    "# Use numpy to convert to arrays\n",
    "# Labels are the values we want to predict\n",
    "labels = np.array(features['isKilled'])\n",
    "# Remove the labels from the features\n",
    "# axis 1 refers to the columns\n",
    "features= features.drop('isKilled', axis = 1)\n",
    "# Saving feature names for later use\n",
    "feature_list = list(features.columns)\n",
    "# Convert to numpy array\n",
    "features = np.array(features)"
   ]
  },
  {
   "cell_type": "code",
   "execution_count": 3,
   "id": "bca6a62d",
   "metadata": {},
   "outputs": [
    {
     "name": "stdout",
     "output_type": "stream",
     "text": [
      "GaussianNB()  mean accuracy:  79.543 % std:  0.0 %\n",
      "Number of mislabeled points out of a total 591813 points : 121038\n"
     ]
    }
   ],
   "source": [
    "model = GaussianNB()\n",
    "cv_scores = cross_val_score(model, features, labels, cv=5)\n",
    "    \n",
    "print(model, ' mean accuracy: ', round(cv_scores.mean()*100, 3), '% std: ', round(cv_scores.var()*100, 3),'%')\n",
    "y_pred = model.fit(features, labels).predict(features)\n",
    "print(\"Number of mislabeled points out of a total %d points : %d\" % (features.shape[0], (labels != y_pred).sum()))\n"
   ]
  },
  {
   "cell_type": "code",
   "execution_count": 4,
   "id": "23ede49c",
   "metadata": {},
   "outputs": [],
   "source": [
    "# from sklearn.model_selection import RepeatedStratifiedKFold\n",
    "\n",
    "# cv_method = RepeatedStratifiedKFold(n_splits=5, \n",
    "#                                     n_repeats=3, \n",
    "#                                     random_state=999)\n",
    "\n",
    "# from sklearn.preprocessing import PowerTransformer\n",
    "# params_NB = {'var_smoothing': np.logspace(0,-9, num=100)}\n",
    "\n",
    "# gs_NB = GridSearchCV(estimator=model, \n",
    "#                      param_grid=params_NB, \n",
    "#                      cv=cv_method,\n",
    "#                      verbose=1, \n",
    "#                      scoring='accuracy')\n",
    "\n",
    "# Data_transformed = PowerTransformer().fit_transform(features)\n",
    "\n",
    "# gs_NB.fit(Data_transformed, labels);"
   ]
  },
  {
   "cell_type": "code",
   "execution_count": 5,
   "id": "84e24490",
   "metadata": {},
   "outputs": [],
   "source": [
    "# print(gs_NB.best_params_)"
   ]
  },
  {
   "cell_type": "code",
   "execution_count": 6,
   "id": "d3dd7982",
   "metadata": {},
   "outputs": [
    {
     "name": "stdout",
     "output_type": "stream",
     "text": [
      "GaussianNB(var_smoothing=0.0001873817422860383)  mean accuracy:  79.54 % std:  0.0 %\n",
      "Number of mislabeled points out of a total 591813 points : 121054\n"
     ]
    }
   ],
   "source": [
    "model = GaussianNB(var_smoothing=0.0001873817422860383)\n",
    "cv_scores = cross_val_score(model, features, labels, cv=5)\n",
    "    \n",
    "print(model, ' mean accuracy: ', round(cv_scores.mean()*100, 3), '% std: ', round(cv_scores.var()*100, 3),'%')\n",
    "y_pred = model.fit(features, labels).predict(features)\n",
    "print(\"Number of mislabeled points out of a total %d points : %d\" % (features.shape[0], (labels != y_pred).sum()))\n"
   ]
  },
  {
   "cell_type": "code",
   "execution_count": 7,
   "id": "e61ce3a6",
   "metadata": {},
   "outputs": [
    {
     "data": {
      "image/png": "[encoded data removed]",
      "text/plain": [
       "<Figure size 432x288 with 2 Axes>"
      ]
     },
     "metadata": {},
     "output_type": "display_data"
    }
   ],
   "source": [
    "from sklearn import metrics\n",
    "\n",
    "sns.heatmap((metrics.confusion_matrix(labels,y_pred)),annot=True,fmt='.5g',cmap=\"YlGn\").set_title('Test Data');\n"
   ]
  },
  {
   "cell_type": "code",
   "execution_count": 8,
   "id": "b8450dde",
   "metadata": {},
   "outputs": [
    {
     "name": "stdout",
     "output_type": "stream",
     "text": [
      "GaussianNB()  mean accuracy:  63.161 % std:  0.003 %\n",
      "Number of mislabeled points out of a total 148492 points : 54892\n"
     ]
    }
   ],
   "source": [
    "features = pd.read_csv('/home/akash/Downloads/Machine/Machine Learning Final Project/Data/testing_data.csv',encoding= 'unicode_escape')\n",
    "features_test=convert(features)\n",
    "labels_test = np.array(features['isKilled'])\n",
    "features_test= features_test.drop('isKilled', axis = 1)\n",
    "features_test = np.array(features_test)\n",
    "\n",
    "model_test = GaussianNB()\n",
    "\n",
    "cv_scores = cross_val_score(model, features_test, labels_test, cv=5)\n",
    "    \n",
    "print(model_test, ' mean accuracy: ', round(cv_scores.mean()*100, 3), '% std: ', round(cv_scores.var()*100, 3),'%')\n",
    "y_pred = model.fit(features_test, labels_test).predict(features_test)\n",
    "print(\"Number of mislabeled points out of a total %d points : %d\" % (features_test.shape[0], (labels_test != y_pred).sum()))\n",
    "\n"
   ]
  },
  {
   "cell_type": "code",
   "execution_count": 9,
   "id": "805b9ab3",
   "metadata": {},
   "outputs": [
    {
     "name": "stdout",
     "output_type": "stream",
     "text": [
      "GaussianNB(var_smoothing=0.0001873817422860383)  mean accuracy:  63.161 % std:  0.003 %\n",
      "Number of mislabeled points out of a total 148492 points : 54892\n"
     ]
    }
   ],
   "source": [
    "features = pd.read_csv('/home/akash/Downloads/Machine/Machine Learning Final Project/Data/testing_data.csv',encoding= 'unicode_escape')\n",
    "features_test=convert(features)\n",
    "labels_test = np.array(features['isKilled'])\n",
    "features_test= features_test.drop('isKilled', axis = 1)\n",
    "features_test = np.array(features_test)\n",
    "\n",
    "model_test = GaussianNB(var_smoothing=0.0001873817422860383)\n",
    "\n",
    "cv_scores = cross_val_score(model, features_test, labels_test, cv=5)\n",
    "    \n",
    "print(model_test, ' mean accuracy: ', round(cv_scores.mean()*100, 3), '% std: ', round(cv_scores.var()*100, 3),'%')\n",
    "y_pred = model.fit(features_test, labels_test).predict(features_test)\n",
    "print(\"Number of mislabeled points out of a total %d points : %d\" % (features_test.shape[0], (labels_test != y_pred).sum()))\n",
    "\n"
   ]
  },
  {
   "cell_type": "code",
   "execution_count": 10,
   "id": "6c4954f2",
   "metadata": {},
   "outputs": [
    {
     "data": {
      "image/png": "[encoded data removed]",
      "text/plain": [
       "<Figure size 432x288 with 2 Axes>"
      ]
     },
     "metadata": {},
     "output_type": "display_data"
    }
   ],
   "source": [
    "from sklearn import metrics\n",
    "\n",
    "sns.heatmap((metrics.confusion_matrix(labels_test,y_pred)),annot=True,fmt='.5g',cmap=\"YlGn\").set_title('Test Data');\n"
   ]
  }
 ],
 "metadata": {
  "kernelspec": {
   "display_name": "Python 3",
   "language": "python",
   "name": "python3"
  },
  "language_info": {
   "codemirror_mode": {
    "name": "ipython",
    "version": 3
   },
   "file_extension": ".py",
   "mimetype": "text/x-python",
   "name": "python",
   "nbconvert_exporter": "python",
   "pygments_lexer": "ipython3",
   "version": "3.6.13"
  }
 },
 "nbformat": 4,
 "nbformat_minor": 5
}
