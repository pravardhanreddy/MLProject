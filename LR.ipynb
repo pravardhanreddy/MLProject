{
 "cells": [
  {
   "cell_type": "code",
   "execution_count": 2,
   "metadata": {},
   "outputs": [],
   "source": [
    "# Pandas is used for data manipulation\n",
    "import pandas as pd\n",
    "import numpy as np\n",
    "import matplotlib.pyplot as plt\n",
    "from sklearn.model_selection import cross_val_score,train_test_split\n",
    "from sklearn.metrics import accuracy_score, confusion_matrix, classification_report, precision_recall_fscore_support, f1_score, roc_curve, roc_auc_score, RocCurveDisplay, auc\n",
    "from collections import Counter\n",
    "from sklearn import preprocessing\n",
    "from sklearn.model_selection import RandomizedSearchCV\n",
    "from sklearn.ensemble import RandomForestClassifier\n",
    "\n",
    "def convert(data):\n",
    "    number = preprocessing.LabelEncoder()\n",
    "    data['operator'] = number.fit_transform(data.operator)\n",
    "    data['methodReturn'] = number.fit_transform(data.methodReturn)\n",
    "    data['isKilled'] = number.fit_transform(data.isKilled)\n",
    "    return data\n",
    "\n",
    "# Read in data and display first 5 rows\n",
    "features = pd.read_csv('py_files/training_data.csv',encoding= 'unicode_escape')\n",
    "#print(features)\n",
    "#print('The shape of our features is:', features.shape)\n",
    "\n",
    "#Convert string to float\n",
    "features=convert(features)\n",
    "#print(features)\n",
    "#print('The shape of our features is:', features.shape) \n",
    "\n",
    "# Use numpy to convert to arrays\n",
    "# Labels are the values we want to predict\n",
    "labels = np.array(features['isKilled'])\n",
    "# Remove the labels from the features\n",
    "# axis 1 refers to the columns\n",
    "features= features.drop('isKilled', axis = 1)\n",
    "# Saving feature names for later use\n",
    "feature_list = list(features.columns)\n",
    "# Convert to numpy array\n",
    "features = np.array(features)"
   ]
  },
  {
   "cell_type": "code",
   "execution_count": 3,
   "metadata": {},
   "outputs": [
    {
     "name": "stdout",
     "output_type": "stream",
     "text": [
      "0.980890923315304\n",
      "[[462772   7418]\n",
      " [  3891 117732]]\n"
     ]
    }
   ],
   "source": [
    "#Without validation set. Replicating paper\n",
    "\n",
    "# Instantiate model with 100 decision trees default\n",
    "rf = RandomForestClassifier(random_state = 5,criterion=\"entropy\")\n",
    "rf.fit(features, labels)\n",
    "y_pred_train = rf.predict(features)\n",
    "print(accuracy_score(labels, y_pred_train))\n",
    "print(confusion_matrix(labels, y_pred_train))"
   ]
  },
  {
   "cell_type": "code",
   "execution_count": 6,
   "metadata": {},
   "outputs": [
    {
     "data": {
      "image/png": "[encoded data removed]",
      "text/plain": [
       "<Figure size 432x288 with 1 Axes>"
      ]
     },
     "metadata": {
      "needs_background": "light"
     },
     "output_type": "display_data"
    }
   ],
   "source": [
    "##Plot feature importance\n",
    "feature_names = [f\"features {i}\" for i in range(features.shape[1])]\n",
    "feature_names = ['DepthTree', 'NumSubclass', 'McCabe', 'LOC','DepthNested','CA','CE','Instability','numCovered','operator','methodReturn','numTestsCover','mutantAssert','classAssert']\n",
    "importances = rf.feature_importances_\n",
    "\n",
    "forest_importances = pd.Series(importances, index=feature_names).sort_values(ascending=False)\n",
    "\n",
    "#Feature importance\n",
    "fig, ax = plt.subplots()\n",
    "forest_importances.plot.bar(ax=ax)\n",
    "ax.set_title(\"Feature importances\")\n",
    "ax.set_ylabel(\"Merit\")\n",
    "fig.tight_layout()"
   ]
  },
  {
   "cell_type": "code",
   "execution_count": 4,
   "metadata": {},
   "outputs": [
    {
     "name": "stdout",
     "output_type": "stream",
     "text": [
      "0.8627400802736848\n",
      "Confusion_matrix:\n",
      " [[80987 11995]\n",
      " [ 8387 47123]]\n",
      "(0.8627400802736848, 0.8627400802736848, 0.8627400802736848, None)\n",
      "0.8627400802736848\n",
      "[0.00000000e+00 1.80147721e-05 9.00738606e-05 ... 9.87713925e-01\n",
      " 9.87713925e-01 1.00000000e+00] [0.         0.         0.         ... 0.32839689 0.32866576 1.        ] [2.00000000e+00 1.00000000e+00 9.96666667e-01 ... 2.50000000e-03\n",
      " 1.25000000e-03 0.00000000e+00]\n",
      "AUC:  0.9372576144496305\n",
      "0.06274238555036957\n"
     ]
    },
    {
     "data": {
      "text/plain": [
       "<sklearn.metrics._plot.roc_curve.RocCurveDisplay at 0x7f9ff60425b0>"
      ]
     },
     "execution_count": 4,
     "metadata": {},
     "output_type": "execute_result"
    },
    {
     "data": {
      "image/png": "[encoded data removed]",
      "text/plain": [
       "<Figure size 432x288 with 1 Axes>"
      ]
     },
     "metadata": {
      "needs_background": "light"
     },
     "output_type": "display_data"
    }
   ],
   "source": [
    "##Input test data\n",
    "positive_prob = []\n",
    "test = pd.read_csv('py_files/testing_data.csv',encoding= 'unicode_escape')\n",
    "\n",
    "#Convert string to float\n",
    "test=convert(test)\n",
    "\n",
    "# ## Labels are the values we want to predict\n",
    "test_labels = np.array(test['isKilled'])\n",
    "\n",
    "# # Remove the labels from the features\n",
    "# # axis 1 refers to the columns\n",
    "test= test.drop('isKilled', axis = 1)\n",
    "# # Saving feature names for later use\n",
    "feature_list = list(test.columns)\n",
    "# # Convert to numpy array\n",
    "test = np.array(test)\n",
    "y_pred_test = rf.predict(test)\n",
    "#print(\"Predicted labels::\", y_pred_test)\n",
    "print(accuracy_score(test_labels, y_pred_test))\n",
    "confusion = confusion_matrix(test_labels, y_pred_test)\n",
    "print(\"Confusion_matrix:\\n\",confusion)\n",
    "print(precision_recall_fscore_support(test_labels, y_pred_test, average='micro'))\n",
    "print(f1_score(test_labels, y_pred_test, average='micro'))\n",
    "\n",
    "# # #Get the probability of each predictions\n",
    "predicted = rf.predict_proba(test)\n",
    "#print(predicted)\n",
    "# # #Take the positive predictictability i.e. survived for calculating ROC AUC\n",
    "for i in predicted:\n",
    "    positive_prob.append(i[1])\n",
    "#print(positive_prob)\n",
    "#Calculate ROC\n",
    "fpr, tpr, thresholds = roc_curve(test_labels, positive_prob, pos_label=0)\n",
    "print(fpr, tpr, thresholds)\n",
    "try:\n",
    "    print(\"AUC: \", roc_auc_score(test_labels, positive_prob))\n",
    "    roc_auc = auc(fpr, tpr)\n",
    "    print(roc_auc)\n",
    "except:\n",
    "    pass\n",
    "display = RocCurveDisplay(fpr=fpr,tpr=tpr,roc_auc=roc_auc)\n",
    "display.plot()"
   ]
  },
  {
   "cell_type": "code",
   "execution_count": 15,
   "metadata": {},
   "outputs": [
    {
     "name": "stdout",
     "output_type": "stream",
     "text": [
      "(295906, 14) (295906,)\n",
      "(295907, 14) (295907,)\n",
      "0.9561956966208978\n",
      "[[226786   8330]\n",
      " [  4632  56159]]\n",
      "0.8720267758532446\n",
      "Confusion_matrix:\n",
      " [[80668 12314]\n",
      " [ 6689 48821]]\n",
      "(0.8720267758532446, 0.8720267758532446, 0.8720267758532446, None)\n",
      "0.8720267758532446\n"
     ]
    }
   ],
   "source": [
    "##Validation set create training and testing vars with 0.5 test size\n",
    "X_train, X_test, y_train, y_test = train_test_split(features, labels, test_size=0.5,random_state=0)\n",
    "print (X_train.shape, y_train.shape)\n",
    "print (X_test.shape, y_test.shape)\n",
    "rf = RandomForestClassifier(random_state = 5,criterion=\"entropy\")\n",
    "rf.fit(X_train, y_train)\n",
    "y_pred_train = rf.predict(X_test)\n",
    "print(accuracy_score(y_test, y_pred_train))\n",
    "print(confusion_matrix(y_test, y_pred_train))\n",
    "y_pred_test = rf.predict(test)\n",
    "#print(\"Predicted labels::\", y_pred_test)\n",
    "print(accuracy_score(test_labels, y_pred_test))\n",
    "confusion = confusion_matrix(test_labels, y_pred_test)\n",
    "print(\"Confusion_matrix:\\n\",confusion)\n",
    "print(precision_recall_fscore_support(test_labels, y_pred_test, average='micro'))\n",
    "print(f1_score(test_labels, y_pred_test, average='micro'))"
   ]
  },
  {
   "cell_type": "code",
   "execution_count": 16,
   "metadata": {},
   "outputs": [
    {
     "name": "stdout",
     "output_type": "stream",
     "text": [
      "(414269, 14) (414269,)\n",
      "(177544, 14) (177544,)\n",
      "0.9579766142477357\n",
      "[[136389   4763]\n",
      " [  2698  33694]]\n",
      "0.8598038951593352\n",
      "Confusion_matrix:\n",
      " [[80396 12586]\n",
      " [ 8232 47278]]\n",
      "(0.8598038951593352, 0.8598038951593352, 0.8598038951593352, None)\n",
      "0.8598038951593352\n"
     ]
    }
   ],
   "source": [
    "##Validation set create training and testing vars with 0.3 test size\n",
    "X1_train, X1_test, y1_train, y1_test = train_test_split(features, labels, test_size=0.3,random_state=0)\n",
    "print (X1_train.shape, y1_train.shape)\n",
    "print (X1_test.shape, y1_test.shape)\n",
    "rf = RandomForestClassifier(random_state = 5,criterion=\"entropy\")\n",
    "rf.fit(X1_train, y1_train)\n",
    "y1_pred_train = rf.predict(X1_test)\n",
    "print(accuracy_score(y1_test, y1_pred_train))\n",
    "print(confusion_matrix(y1_test, y1_pred_train))\n",
    "y_pred_test = rf.predict(test)\n",
    "#print(\"Predicted labels::\", y_pred_test)\n",
    "print(accuracy_score(test_labels, y_pred_test))\n",
    "confusion = confusion_matrix(test_labels, y_pred_test)\n",
    "print(\"Confusion_matrix:\\n\",confusion)\n",
    "print(precision_recall_fscore_support(test_labels, y_pred_test, average='micro'))\n",
    "print(f1_score(test_labels, y_pred_test, average='micro'))"
   ]
  },
  {
   "cell_type": "code",
   "execution_count": 17,
   "metadata": {},
   "outputs": [
    {
     "name": "stdout",
     "output_type": "stream",
     "text": [
      "0.9409882158921553\n",
      "[[217779  17337]\n",
      " [   125  60666]]\n",
      "0.8915766505939714\n",
      "Confusion_matrix:\n",
      " [[76882 16100]\n",
      " [    0 55510]]\n",
      "(0.8915766505939714, 0.8915766505939714, 0.8915766505939714, None)\n",
      "0.8915766505939714\n"
     ]
    }
   ],
   "source": [
    "from sklearn.linear_model import LogisticRegression\n",
    "from sklearn import metrics\n",
    "logreg = LogisticRegression()\n",
    "logreg.fit(X_train, y_train)\n",
    "y_pred_train_logreg = logreg.predict(X_test)\n",
    "print(accuracy_score(y_test, y_pred_train_logreg))\n",
    "print(confusion_matrix(y_test, y_pred_train_logreg))\n",
    "y_pred_test = logreg.predict(test)\n",
    "#print(\"Predicted labels::\", y_pred_test)\n",
    "print(accuracy_score(test_labels, y_pred_test))\n",
    "confusion = confusion_matrix(test_labels, y_pred_test)\n",
    "print(\"Confusion_matrix:\\n\",confusion)\n",
    "print(precision_recall_fscore_support(test_labels, y_pred_test, average='micro'))\n",
    "print(f1_score(test_labels, y_pred_test, average='micro'))"
   ]
  },
  {
   "cell_type": "code",
   "execution_count": 19,
   "metadata": {},
   "outputs": [
    {
     "name": "stdout",
     "output_type": "stream",
     "text": [
      "0.9414060739872933\n",
      "[[130824  10328]\n",
      " [    75  36317]]\n",
      "0.891590119333028\n",
      "Confusion_matrix:\n",
      " [[76884 16098]\n",
      " [    0 55510]]\n",
      "(0.891590119333028, 0.891590119333028, 0.891590119333028, None)\n",
      "0.891590119333028\n"
     ]
    }
   ],
   "source": [
    "from sklearn.linear_model import LogisticRegression\n",
    "from sklearn import metrics\n",
    "logreg = LogisticRegression()\n",
    "logreg.fit(X1_train, y1_train)\n",
    "y1_pred_train_logreg = logreg.predict(X1_test)\n",
    "print(accuracy_score(y1_test, y1_pred_train_logreg))\n",
    "print(confusion_matrix(y1_test, y1_pred_train_logreg))\n",
    "y_pred_test = logreg.predict(test)\n",
    "#print(\"Predicted labels::\", y_pred_test)\n",
    "print(accuracy_score(test_labels, y_pred_test))\n",
    "confusion = confusion_matrix(test_labels, y_pred_test)\n",
    "print(\"Confusion_matrix:\\n\",confusion)\n",
    "print(precision_recall_fscore_support(test_labels, y_pred_test, average='micro'))\n",
    "print(f1_score(test_labels, y_pred_test, average='micro'))"
   ]
  },
  {
   "cell_type": "code",
   "execution_count": null,
   "metadata": {},
   "outputs": [],
   "source": [
    "# Running for different n_estimators to get a range for randomized search grid\n",
    "n_estimators = [int(x) for x in np.linspace(start = 50, stop = 1000, num = 20)]\n",
    "for i in n_estimators:\n",
    "    rf = RandomForestClassifier(n_estimators = i, random_state = 5,criterion=\"entropy\")\n",
    "    rf.fit(features, labels)\n",
    "    y_pred_train = rf.predict(features)\n",
    "    print(accuracy_score(labels, y_pred_train))\n",
    "    print(confusion_matrix(labels, y_pred_train))"
   ]
  },
  {
   "cell_type": "code",
   "execution_count": null,
   "metadata": {},
   "outputs": [],
   "source": [
    "#Hyper parameter tuning\n",
    "# Number of trees in random forest\n",
    "n_estimators = [int(x) for x in np.linspace(start = 50, stop = 500, num = 10)]\n",
    "# Number of features to consider at every split\n",
    "max_features = ['auto', 'sqrt']\n",
    "# Maximum number of levels in tree\n",
    "max_depth = [int(x) for x in np.linspace(10, 100, num = 10)]\n",
    "max_depth.append(None)\n",
    "# Minimum number of samples required to split a node\n",
    "min_samples_split = [2, 5, 10]\n",
    "# Minimum number of samples required at each leaf node\n",
    "min_samples_leaf = [1, 2, 4]\n",
    "# Method of selecting samples for training each tree\n",
    "bootstrap = [True, False]\n",
    "# Create the random grid\n",
    "random_grid = {'n_estimators': n_estimators,\n",
    "               'max_features': max_features,\n",
    "               'max_depth': max_depth,\n",
    "               'min_samples_split': min_samples_split,\n",
    "               'min_samples_leaf': min_samples_leaf,\n",
    "               'bootstrap': bootstrap}\n",
    "print(random_grid)\n",
    "\n",
    "# Import the model we are using\n",
    "rf = RandomForestClassifier()\n",
    "# Use the random grid to search for best hyperparameters\n",
    "# First create the base model to tune\n",
    "rf_random = RandomizedSearchCV(estimator = rf, param_distributions = random_grid, n_iter = 100, cv = 3, verbose=2, random_state=5, n_jobs = -1)\n",
    "rf_random.fit(features, labels)\n",
    "print(rf_random.best_params_)"
   ]
  }
 ],
 "metadata": {
  "kernelspec": {
   "display_name": "Python 3",
   "language": "python",
   "name": "python3"
  },
  "language_info": {
   "codemirror_mode": {
    "name": "ipython",
    "version": 3
   },
   "file_extension": ".py",
   "mimetype": "text/x-python",
   "name": "python",
   "nbconvert_exporter": "python",
   "pygments_lexer": "ipython3",
   "version": "3.8.3"
  }
 },
 "nbformat": 4,
 "nbformat_minor": 4
}
