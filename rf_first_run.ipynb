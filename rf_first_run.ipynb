{
 "cells": [
  {
   "cell_type": "code",
   "execution_count": 3,
   "metadata": {},
   "outputs": [],
   "source": [
    "# Pandas is used for data manipulation\n",
    "import pandas as pd\n",
    "import numpy as np\n",
    "import matplotlib.pyplot as plt\n",
    "from sklearn.model_selection import cross_val_score,train_test_split\n",
    "from sklearn.metrics import accuracy_score, confusion_matrix, classification_report, precision_recall_fscore_support, f1_score, roc_curve, roc_auc_score, RocCurveDisplay, auc\n",
    "from collections import Counter\n",
    "from sklearn import preprocessing\n",
    "from sklearn.model_selection import RandomizedSearchCV\n",
    "from sklearn.ensemble import RandomForestClassifier\n",
    "\n",
    "def convert(data):\n",
    "    number = preprocessing.LabelEncoder()\n",
    "    data['operator'] = number.fit_transform(data.operator)\n",
    "    data['methodReturn'] = number.fit_transform(data.methodReturn)\n",
    "    data['isKilled'] = number.fit_transform(data.isKilled)\n",
    "    return data\n",
    "\n",
    "# Read in data and display first 5 rows\n",
    "features = pd.read_csv('py_files/training_data.csv',encoding= 'unicode_escape')\n",
    "#print(features)\n",
    "#print('The shape of our features is:', features.shape)\n",
    "\n",
    "#Convert string to float\n",
    "features=convert(features)\n",
    "#print(features)\n",
    "#print('The shape of our features is:', features.shape) \n",
    "\n",
    "# Use numpy to convert to arrays\n",
    "# Labels are the values we want to predict\n",
    "labels = np.array(features['isKilled'])\n",
    "# Remove the labels from the features\n",
    "# axis 1 refers to the columns\n",
    "features= features.drop('isKilled', axis = 1)\n",
    "# Saving feature names for later use\n",
    "feature_list = list(features.columns)\n",
    "# Convert to numpy array\n",
    "features = np.array(features)"
   ]
  },
  {
   "cell_type": "code",
   "execution_count": 5,
   "metadata": {},
   "outputs": [
    {
     "name": "stdout",
     "output_type": "stream",
     "text": [
      "0.980890923315304\n",
      "[[462772   7418]\n",
      " [  3891 117732]]\n"
     ]
    }
   ],
   "source": [
    "#Without validation set. Replicating paper\n",
    "\n",
    "# Instantiate model with 100 decision trees default\n",
    "rf = RandomForestClassifier(random_state = 5,criterion=\"entropy\")\n",
    "rf.fit(features, labels)\n",
    "y_pred_train = rf.predict(features)\n",
    "print(accuracy_score(labels, y_pred_train))\n",
    "print(confusion_matrix(labels, y_pred_train))"
   ]
  },
  {
   "cell_type": "code",
   "execution_count": 6,
   "metadata": {},
   "outputs": [
    {
     "data": {
      "image/png": "[encoded data removed]",
      "text/plain": [
       "<Figure size 432x288 with 1 Axes>"
      ]
     },
     "metadata": {
      "needs_background": "light"
     },
     "output_type": "display_data"
    }
   ],
   "source": [
    "##Plot feature importance\n",
    "feature_names = [f\"features {i}\" for i in range(features.shape[1])]\n",
    "feature_names = ['DepthTree', 'NumSubclass', 'McCabe', 'LOC','DepthNested','CA','CE','Instability','numCovered','operator','methodReturn','numTestsCover','mutantAssert','classAssert']\n",
    "importances = rf.feature_importances_\n",
    "\n",
    "forest_importances = pd.Series(importances, index=feature_names).sort_values(ascending=False)\n",
    "\n",
    "#Feature importance\n",
    "fig, ax = plt.subplots()\n",
    "forest_importances.plot.bar(ax=ax)\n",
    "ax.set_title(\"Feature importances\")\n",
    "ax.set_ylabel(\"Merit\")\n",
    "fig.tight_layout()"
   ]
  },
  {
   "cell_type": "code",
   "execution_count": 24,
   "metadata": {},
   "outputs": [
    {
     "name": "stdout",
     "output_type": "stream",
     "text": [
      "0.8573525846510249\n",
      "Confusion_matrix:\n",
      " [[80740 12242]\n",
      " [ 8940 46570]]\n",
      "(0.8573525846510249, 0.8573525846510249, 0.8573525846510249, None)\n",
      "0.8573525846510249\n",
      "[0.00000000e+00 1.80147721e-05 5.40443163e-05 ... 9.95892632e-01\n",
      " 9.95946676e-01 1.00000000e+00] [0.         0.         0.         ... 0.37955733 0.37955733 1.        ] [1.99121212e+00 9.91212121e-01 9.88425000e-01 ... 3.33333333e-04\n",
      " 2.85714286e-04 0.00000000e+00]\n",
      "AUC:  0.9387149837842834\n",
      "0.061285016215716706\n"
     ]
    },
    {
     "data": {
      "text/plain": [
       "<sklearn.metrics._plot.roc_curve.RocCurveDisplay at 0x7fc8d69f8160>"
      ]
     },
     "execution_count": 24,
     "metadata": {},
     "output_type": "execute_result"
    },
    {
     "data": {
      "image/png": "[encoded data removed]",
      "text/plain": [
       "<Figure size 432x288 with 1 Axes>"
      ]
     },
     "metadata": {
      "needs_background": "light"
     },
     "output_type": "display_data"
    }
   ],
   "source": [
    "##Input test data\n",
    "positive_prob = []\n",
    "test = pd.read_csv('py_files/testing_data.csv',encoding= 'unicode_escape')\n",
    "\n",
    "#Convert string to float\n",
    "test=convert(test)\n",
    "\n",
    "# ## Labels are the values we want to predict\n",
    "test_labels = np.array(test['isKilled'])\n",
    "\n",
    "# # Remove the labels from the features\n",
    "# # axis 1 refers to the columns\n",
    "test= test.drop('isKilled', axis = 1)\n",
    "# # Saving feature names for later use\n",
    "feature_list = list(test.columns)\n",
    "# # Convert to numpy array\n",
    "test = np.array(test)\n",
    "y_pred_test = rf.predict(test)\n",
    "#print(\"Predicted labels::\", y_pred_test)\n",
    "print(accuracy_score(test_labels, y_pred_test))\n",
    "confusion = confusion_matrix(test_labels, y_pred_test)\n",
    "print(\"Confusion_matrix:\\n\",confusion)\n",
    "print(precision_recall_fscore_support(test_labels, y_pred_test, average='micro'))\n",
    "print(f1_score(test_labels, y_pred_test, average='micro'))\n",
    "\n",
    "# # #Get the probability of each predictions\n",
    "predicted = rf.predict_proba(test)\n",
    "#print(predicted)\n",
    "# # #Take the positive predictictability i.e. survived for calculating ROC AUC\n",
    "for i in predicted:\n",
    "    positive_prob.append(i[1])\n",
    "#print(positive_prob)\n",
    "#Calculate ROC\n",
    "fpr, tpr, thresholds = roc_curve(test_labels, positive_prob, pos_label=0)\n",
    "print(fpr, tpr, thresholds)\n",
    "try:\n",
    "    print(\"AUC: \", roc_auc_score(test_labels, positive_prob))\n",
    "    roc_auc = auc(fpr, tpr)\n",
    "    print(roc_auc)\n",
    "except:\n",
    "    pass\n",
    "display = RocCurveDisplay(fpr=fpr,tpr=tpr,roc_auc=roc_auc)\n",
    "display.plot()"
   ]
  },
  {
   "cell_type": "code",
   "execution_count": 6,
   "metadata": {},
   "outputs": [
    {
     "name": "stdout",
     "output_type": "stream",
     "text": [
      "(295906, 14) (295906,)\n",
      "(295907, 14) (295907,)\n",
      "0.980686499474497\n",
      "[[231017   3748]\n",
      " [  1967  59175]]\n"
     ]
    }
   ],
   "source": [
    "##Validation set create training and testing vars\n",
    "X_train, X_test, y_train, y_test = train_test_split(features, labels, test_size=0.5)\n",
    "print (X_train.shape, y_train.shape)\n",
    "print (X_test.shape, y_test.shape)\n",
    "rf = RandomForestClassifier(random_state = 5,criterion=\"entropy\")\n",
    "rf.fit(features, labels)\n",
    "y_pred_train = rf.predict(X_test)\n",
    "print(accuracy_score(y_test, y_pred_train))\n",
    "print(confusion_matrix(y_test, y_pred_train))"
   ]
  },
  {
   "cell_type": "code",
   "execution_count": 16,
   "metadata": {},
   "outputs": [
    {
     "data": {
      "text/plain": [
       "1"
      ]
     },
     "execution_count": 16,
     "metadata": {},
     "output_type": "execute_result"
    }
   ],
   "source": [
    "from sklearn.model_selection import PredefinedSplit, GridSearchCV\n",
    "split_index = [-1] * len(X_train) + [0]*len(X_test)\n",
    "X = np.concatenate((X_train, X_test), axis =0)\n",
    "y = np.concatenate((y_train, y_test), axis = 0)\n",
    "pds = PredefinedSplit(test_fold = split_index)\n",
    "pds.get_n_splits()"
   ]
  },
  {
   "cell_type": "code",
   "execution_count": 17,
   "metadata": {},
   "outputs": [
    {
     "name": "stdout",
     "output_type": "stream",
     "text": [
      "{'n_estimators': [50, 100, 150, 200, 250, 300, 350, 400, 450, 500], 'max_features': ['auto', 'sqrt'], 'max_depth': [10, 20, 30, 40, 50, 60, 70, 80, 90, 100, None], 'min_samples_split': [2, 5, 10], 'min_samples_leaf': [1, 2, 4], 'bootstrap': [True, False], 'criterion': ['entropy']}\n",
      "Fitting 1 folds for each of 300 candidates, totalling 300 fits\n"
     ]
    },
    {
     "name": "stderr",
     "output_type": "stream",
     "text": [
      "[Parallel(n_jobs=-1)]: Using backend LokyBackend with 8 concurrent workers.\n",
      "/home/prasanna/anaconda3/lib/python3.6/site-packages/joblib/externals/loky/process_executor.py:691: UserWarning: A worker stopped while some jobs were given to the executor. This can be caused by a too short worker timeout or by a memory leak.\n",
      "  \"timeout or by a memory leak.\", UserWarning\n",
      "[Parallel(n_jobs=-1)]: Done  25 tasks      | elapsed:  4.0min\n",
      "[Parallel(n_jobs=-1)]: Done 146 tasks      | elapsed: 24.1min\n",
      "[Parallel(n_jobs=-1)]: Done 300 out of 300 | elapsed: 50.2min finished\n"
     ]
    },
    {
     "name": "stdout",
     "output_type": "stream",
     "text": [
      "{'n_estimators': 150, 'min_samples_split': 5, 'min_samples_leaf': 4, 'max_features': 'sqrt', 'max_depth': 20, 'criterion': 'entropy', 'bootstrap': True}\n"
     ]
    }
   ],
   "source": [
    "#Hyper parameter tuning\n",
    "# Number of trees in random forest\n",
    "n_estimators = [int(x) for x in np.linspace(start = 50, stop = 500, num = 10)]\n",
    "# Number of features to consider at every split\n",
    "max_features = ['auto', 'sqrt']\n",
    "# Maximum number of levels in tree\n",
    "max_depth = [int(x) for x in np.linspace(10, 100, num = 10)]\n",
    "max_depth.append(None)\n",
    "# Minimum number of samples required to split a node\n",
    "min_samples_split = [2, 5, 10]\n",
    "# Minimum number of samples required at each leaf node\n",
    "min_samples_leaf = [1, 2, 4]\n",
    "# Method of selecting samples for training each tree\n",
    "bootstrap = [True, False]\n",
    "#Criterion to getinformation gain\n",
    "criterion = ['entropy']\n",
    "# Create the random grid\n",
    "random_grid = {'n_estimators': n_estimators,\n",
    "               'max_features': max_features,\n",
    "               'max_depth': max_depth,\n",
    "               'min_samples_split': min_samples_split,\n",
    "               'min_samples_leaf': min_samples_leaf,\n",
    "               'bootstrap': bootstrap,\n",
    "               'criterion': criterion}\n",
    "print(random_grid)\n",
    "\n",
    "# Import the model we are using\n",
    "rf = RandomForestClassifier()\n",
    "# Use the random grid to search for best hyperparameters\n",
    "# First create the base model to tune\n",
    "rf_random = RandomizedSearchCV(estimator = rf, param_distributions = random_grid, n_iter = 300, cv = pds, verbose=2, random_state=5, n_jobs = -1)\n",
    "rf_random.fit(features, labels)\n",
    "print(rf_random.best_params_)"
   ]
  },
  {
   "cell_type": "code",
   "execution_count": 18,
   "metadata": {},
   "outputs": [
    {
     "name": "stdout",
     "output_type": "stream",
     "text": [
      "0.9808706466400704\n",
      "[[462950   7240]\n",
      " [  4081 117542]]\n",
      "0.980890923315304\n",
      "[[462772   7418]\n",
      " [  3891 117732]]\n",
      "0.9808943027611763\n",
      "[[462727   7463]\n",
      " [  3844 117779]]\n",
      "0.9808943027611763\n",
      "[[462707   7483]\n",
      " [  3824 117799]]\n",
      "0.9808943027611763\n",
      "[[462685   7505]\n",
      " [  3802 117821]]\n",
      "0.9808943027611763\n",
      "[[462607   7583]\n",
      " [  3724 117899]]\n",
      "0.9808943027611763\n",
      "[[462645   7545]\n",
      " [  3762 117861]]\n",
      "0.9808943027611763\n",
      "[[462650   7540]\n",
      " [  3767 117856]]\n",
      "0.9808943027611763\n",
      "[[462637   7553]\n",
      " [  3754 117869]]\n",
      "0.9808943027611763\n",
      "[[462604   7586]\n",
      " [  3721 117902]]\n",
      "0.9808943027611763\n",
      "[[462605   7585]\n",
      " [  3722 117901]]\n",
      "0.9808943027611763\n",
      "[[462586   7604]\n",
      " [  3703 117920]]\n",
      "0.9808943027611763\n",
      "[[462564   7626]\n",
      " [  3681 117942]]\n",
      "0.9808943027611763\n",
      "[[462565   7625]\n",
      " [  3682 117941]]\n",
      "0.9808943027611763\n",
      "[[462533   7657]\n",
      " [  3650 117973]]\n",
      "0.9808943027611763\n",
      "[[462507   7683]\n",
      " [  3624 117999]]\n",
      "0.9808943027611763\n",
      "[[462507   7683]\n",
      " [  3624 117999]]\n",
      "0.9808943027611763\n",
      "[[462519   7671]\n",
      " [  3636 117987]]\n",
      "0.9808943027611763\n",
      "[[462510   7680]\n",
      " [  3627 117996]]\n",
      "0.9808943027611763\n",
      "[[462519   7671]\n",
      " [  3636 117987]]\n"
     ]
    }
   ],
   "source": [
    "# Running for different n_estimators to get a range for randomized search grid\n",
    "n_estimators = [int(x) for x in np.linspace(start = 50, stop = 1000, num = 20)]\n",
    "for i in n_estimators:\n",
    "    rf = RandomForestClassifier(n_estimators = i, random_state = 5,criterion=\"entropy\")\n",
    "    rf.fit(features, labels)\n",
    "    y_pred_train = rf.predict(features)\n",
    "    print(accuracy_score(labels, y_pred_train))\n",
    "    print(confusion_matrix(labels, y_pred_train))"
   ]
  },
  {
   "cell_type": "code",
   "execution_count": 4,
   "metadata": {},
   "outputs": [
    {
     "name": "stdout",
     "output_type": "stream",
     "text": [
      "{'n_estimators': [50, 100, 150, 200, 250, 300, 350, 400, 450, 500], 'max_features': ['auto', 'sqrt'], 'max_depth': [10, 20, 30, 40, 50, 60, 70, 80, 90, 100, None], 'min_samples_split': [2, 5, 10], 'min_samples_leaf': [1, 2, 4], 'bootstrap': [True, False], 'criterion': ['entropy']}\n",
      "Fitting 3 folds for each of 100 candidates, totalling 300 fits\n"
     ]
    },
    {
     "name": "stderr",
     "output_type": "stream",
     "text": [
      "[Parallel(n_jobs=-1)]: Using backend LokyBackend with 8 concurrent workers.\n",
      "/home/prasanna/anaconda3/lib/python3.6/site-packages/joblib/externals/loky/process_executor.py:691: UserWarning: A worker stopped while some jobs were given to the executor. This can be caused by a too short worker timeout or by a memory leak.\n",
      "  \"timeout or by a memory leak.\", UserWarning\n",
      "[Parallel(n_jobs=-1)]: Done  25 tasks      | elapsed:  5.7min\n",
      "[Parallel(n_jobs=-1)]: Done 146 tasks      | elapsed: 41.2min\n",
      "[Parallel(n_jobs=-1)]: Done 300 out of 300 | elapsed: 83.2min finished\n"
     ]
    },
    {
     "name": "stdout",
     "output_type": "stream",
     "text": [
      "{'n_estimators': 250, 'min_samples_split': 10, 'min_samples_leaf': 4, 'max_features': 'auto', 'max_depth': 10, 'criterion': 'entropy', 'bootstrap': True}\n"
     ]
    }
   ],
   "source": [
    "#Hyper parameter tuning\n",
    "# Number of trees in random forest\n",
    "n_estimators = [int(x) for x in np.linspace(start = 50, stop = 500, num = 10)]\n",
    "# Number of features to consider at every split\n",
    "max_features = ['auto', 'sqrt']\n",
    "# Maximum number of levels in tree\n",
    "max_depth = [int(x) for x in np.linspace(10, 100, num = 10)]\n",
    "max_depth.append(None)\n",
    "# Minimum number of samples required to split a node\n",
    "min_samples_split = [2, 5, 10]\n",
    "# Minimum number of samples required at each leaf node\n",
    "min_samples_leaf = [1, 2, 4]\n",
    "# Method of selecting samples for training each tree\n",
    "bootstrap = [True, False]\n",
    "#Criterion to getinformation gain\n",
    "criterion = ['entropy']\n",
    "# Create the random grid\n",
    "random_grid = {'n_estimators': n_estimators,\n",
    "               'max_features': max_features,\n",
    "               'max\n",
    "# Method of selecting samples for training each tree\n",
    "bootstrap = [True, False]\n",
    "#Criterion to getinformation gain\n",
    "criterion = ['entropy']\n",
    "# Create the random grid\n",
    "random_grid = {'n_estimators': n_estimators,\n",
    "               'max_features': max_features,\n",
    "               'max_depth': max_depth,\n",
    "               'min_sa_depth': max_depth,\n",
    "               'min_samples_split': min_samples_split,\n",
    "               'min_samples_leaf': min_samples_leaf,\n",
    "               'bootstrap': bootstrap,\n",
    "               'criterion': criterion}\n",
    "print(random_grid)\n",
    "\n",
    "# Import the model we are using\n",
    "rf = RandomForestClassifier()\n",
    "# Use the random grid to search for best hyperparameters\n",
    "# First create the base model to tune\n",
    "rf_random = RandomizedSearchCV(estimator = rf, param_distributions = random_grid, n_iter = 100, cv = 3, verbose=2, random_state=5, n_jobs = -1)\n",
    "rf_random.fit(features, labels)\n",
    "print(rf_random.best_params_)"
   ]
  },
  {
   "cell_type": "code",
   "execution_count": 25,
   "metadata": {},
   "outputs": [
    {
     "name": "stdout",
     "output_type": "stream",
     "text": [
      "RandomForestClassifier(criterion='entropy', max_depth=20, max_features='sqrt',\n",
      "                       min_samples_leaf=4, min_samples_split=5,\n",
      "                       n_estimators=150)\n",
      "0.8573525846510249\n",
      "[[80740 12242]\n",
      " [ 8940 46570]]\n"
     ]
    }
   ],
   "source": [
    "best_entropy_with_cv = rf_random.best_estimator_\n",
    "print(best_entropy_with_cv)\n",
    "y_pred_test = rf.predict(test)\n",
    "best_accuracy_entropy_with_cv = accuracy_score(test_labels, y_pred_test)\n",
    "best_confusion_entropy_with_cv = confusion_matrix(test_labels, y_pred_test)\n",
    "print(best_accuracy_entropy_with_cv)\n",
    "print(best_confusion_entropy_with_cv )"
   ]
  },
  {
   "cell_type": "code",
   "execution_count": 27,
   "metadata": {},
   "outputs": [
    {
     "name": "stdout",
     "output_type": "stream",
     "text": [
      "0.8568677100449856\n",
      "[[80203 12779]\n",
      " [ 8475 47035]]\n"
     ]
    }
   ],
   "source": [
    "rf = RandomForestClassifier(n_estimators=250, min_samples_split=10, min_samples_leaf=4, max_features=\"auto\", max_depth= 10, bootstrap=True,random_state = 5,criterion=\"entropy\")\n",
    "rf.fit(features, labels)\n",
    "y_pred_test = rf.predict(test)\n",
    "#print(\"Predicted labels::\", y_pred_test)\n",
    "best_accuracy_entropy_with_kfold = accuracy_score(test_labels, y_pred_test)\n",
    "best_confusion_entropy_with_kfold = confusion_matrix(test_labels, y_pred_test)\n",
    "print(best_accuracy_entropy_with_kfold)\n",
    "print(best_confusion_entropy_with_kfold)"
   ]
  },
  {
   "cell_type": "code",
   "execution_count": null,
   "metadata": {},
   "outputs": [],
   "source": []
  }
 ],
 "metadata": {
  "kernelspec": {
   "display_name": "Python 3",
   "language": "python",
   "name": "python3"
  },
  "language_info": {
   "codemirror_mode": {
    "name": "ipython",
    "version": 3
   },
   "file_extension": ".py",
   "mimetype": "text/x-python",
   "name": "python",
   "nbconvert_exporter": "python",
   "pygments_lexer": "ipython3",
   "version": "3.8.3"
  }
 },
 "nbformat": 4,
 "nbformat_minor": 4
}
