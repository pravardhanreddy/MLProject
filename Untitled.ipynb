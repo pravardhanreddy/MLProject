{
 "cells": [
  {
   "cell_type": "code",
   "execution_count": 4,
   "metadata": {},
   "outputs": [
    {
     "name": "stdout",
     "output_type": "stream",
     "text": [
      "0.980890923315304\n",
      "[[462772   7418]\n",
      " [  3891 117732]]\n"
     ]
    }
   ],
   "source": [
    "#Without validation set. Replicating paper\n",
    "\n",
    "# Instantiate model with 100 decision trees default\n",
    "rf = RandomForestClassifier(random_state = 5,criterion=\"entropy\")\n",
    "rf.fit(features, labels)\n",
    "y_pred_train = rf.predict(features)\n",
    "print(accuracy_score(labels, y_pred_train))\n",
    "print(confusion_matrix(labels, y_pred_train))"
   ]
  },
  {
   "cell_type": "code",
   "execution_count": 6,
   "metadata": {},
   "outputs": [
    {
     "data": {
      "image/png": "[encoded data removed]",
      "text/plain": [
       "<Figure size 432x288 with 1 Axes>"
      ]
     },
     "metadata": {
      "needs_background": "light"
     },
     "output_type": "display_data"
    }
   ],
   "source": [
    "##Plot feature importance\n",
    "feature_names = [f\"features {i}\" for i in range(features.shape[1])]\n",
    "feature_names = ['DepthTree', 'NumSubclass', 'McCabe', 'LOC','DepthNested','CA','CE','Instability','numCovered','operator','methodReturn','numTestsCover','mutantAssert','classAssert']\n",
    "importances = rf.feature_importances_\n",
    "\n",
    "forest_importances = pd.Series(importances, index=feature_names).sort_values(ascending=False)\n",
    "\n",
    "#Feature importance\n",
    "fig, ax = plt.subplots()\n",
    "forest_importances.plot.bar(ax=ax)\n",
    "ax.set_title(\"Feature importances\")\n",
    "ax.set_ylabel(\"Merit\")\n",
    "fig.tight_layout()"
   ]
  },
  {
   "cell_type": "code",
   "execution_count": 8,
   "metadata": {},
   "outputs": [
    {
     "name": "stdout",
     "output_type": "stream",
     "text": [
      "0.8635482046170837\n",
      "Confusion_matrix:\n",
      " [[80355 12627]\n",
      " [ 7635 47875]]\n",
      "(0.8635482046170837, 0.8635482046170837, 0.8635482046170837, None)\n",
      "0.8635482046170837\n",
      "[0.         0.00554855 0.00560259 ... 0.98340839 0.98340839 1.        ] [0.00000000e+00 4.30190790e-05 4.30190790e-05 ... 2.89324816e-01\n",
      " 2.90497085e-01 1.00000000e+00] [2.         1.         0.99777778 ... 0.00333333 0.0025     0.        ]\n",
      "AUC:  0.9328186289630439\n",
      "0.067181371036956\n"
     ]
    },
    {
     "data": {
      "text/plain": [
       "<sklearn.metrics._plot.roc_curve.RocCurveDisplay at 0x7f0c24453780>"
      ]
     },
     "execution_count": 8,
     "metadata": {},
     "output_type": "execute_result"
    },
    {
     "data": {
      "image/png": "[encoded data removed]",
      "text/plain": [
       "<Figure size 432x288 with 1 Axes>"
      ]
     },
     "metadata": {
      "needs_background": "light"
     },
     "output_type": "display_data"
    }
   ],
   "source": [
    "##Input test data\n",
    "positive_prob = []\n",
    "test = pd.read_csv('py_files/testing_data.csv',encoding= 'unicode_escape')\n",
    "\n",
    "#Convert string to float\n",
    "test=convert(test)\n",
    "\n",
    "# ## Labels are the values we want to predict\n",
    "test_labels = np.array(test['isKilled'])\n",
    "\n",
    "# # Remove the labels from the features\n",
    "# # axis 1 refers to the columns\n",
    "test= test.drop('isKilled', axis = 1)\n",
    "# # Saving feature names for later use\n",
    "feature_list = list(test.columns)\n",
    "# # Convert to numpy array\n",
    "test = np.array(test)\n",
    "y_pred_test = rf.predict(test)\n",
    "#print(\"Predicted labels::\", y_pred_test)\n",
    "print(accuracy_score(test_labels, y_pred_test))\n",
    "confusion = confusion_matrix(test_labels, y_pred_test)\n",
    "print(\"Confusion_matrix:\\n\",confusion)\n",
    "print(precision_recall_fscore_support(test_labels, y_pred_test, average='micro'))\n",
    "print(f1_score(test_labels, y_pred_test, average='micro'))\n",
    "\n",
    "# # #Get the probability of each predictions\n",
    "predicted = rf.predict_proba(test)\n",
    "#print(predicted)\n",
    "# # #Take the positive predictictability i.e. survived for calculating ROC AUC\n",
    "for i in predicted:\n",
    "    positive_prob.append(i[1])\n",
    "#print(positive_prob)\n",
    "#Calculate ROC\n",
    "fpr, tpr, thresholds = roc_curve(test_labels, positive_prob, pos_label=0)\n",
    "print(fpr, tpr, thresholds)\n",
    "try:\n",
    "    print(\"AUC: \", roc_auc_score(test_labels, positive_prob))\n",
    "    roc_auc = auc(fpr, tpr)\n",
    "    print(roc_auc)\n",
    "except:\n",
    "    pass\n",
    "display = RocCurveDisplay(fpr=fpr,tpr=tpr,roc_auc=roc_auc)\n",
    "display.plot()"
   ]
  },
  {
   "cell_type": "code",
   "execution_count": 5,
   "metadata": {},
   "outputs": [
    {
     "name": "stdout",
     "output_type": "stream",
     "text": [
      "(295906, 14) (295906,)\n",
      "(295907, 14) (295907,)\n",
      "0.9808723686834039\n",
      "[[231455   3707]\n",
      " [  1953  58792]]\n"
     ]
    }
   ],
   "source": [
    "##Validation set create training and testing vars\n",
    "X_train, X_test, y_train, y_test = train_test_split(features, labels, test_size=0.5)\n",
    "print (X_train.shape, y_train.shape)\n",
    "print (X_test.shape, y_test.shape)\n",
    "rf = RandomForestClassifier(random_state = 5,criterion=\"entropy\")\n",
    "rf.fit(features, labels)\n",
    "y_pred_train = rf.predict(X_test)\n",
    "print(accuracy_score(y_test, y_pred_train))\n",
    "print(confusion_matrix(y_test, y_pred_train))"
   ]
  },
  {
   "cell_type": "code",
   "execution_count": 10,
   "metadata": {},
   "outputs": [
    {
     "name": "stdout",
     "output_type": "stream",
     "text": [
      "50 On training 0.9808706466400704\n",
      "50 On testing 0.8635482046170837\n",
      "100 On training 0.980890923315304\n",
      "100 On testing 0.8627400802736848\n",
      "150 On training 0.9808943027611763\n",
      "150 On testing 0.8626323303612315\n",
      "200 On training 0.9808943027611763\n",
      "200 On testing 0.8670702798803976\n",
      "250 On training 0.9808943027611763\n",
      "250 On testing 0.863346173531234\n",
      "300 On training 0.9808943027611763\n",
      "300 On testing 0.8627064084260432\n",
      "350 On training 0.9808943027611763\n",
      "350 On testing 0.8607399725237723\n",
      "400 On training 0.9808943027611763\n",
      "400 On testing 0.8617770654311343\n",
      "450 On training 0.9808943027611763\n",
      "450 On testing 0.8611575034345285\n",
      "500 On training 0.9808943027611763\n",
      "500 On testing 0.8599587856584866\n",
      "550 On training 0.9808943027611763\n",
      "550 On testing 0.8585849742747084\n",
      "600 On training 0.9808943027611763\n",
      "600 On testing 0.8586523179699916\n",
      "650 On training 0.9808943027611763\n",
      "650 On testing 0.8591102550979177\n",
      "700 On training 0.9808943027611763\n",
      "700 On testing 0.8586119117528217\n",
      "750 On training 0.9808943027611763\n",
      "750 On testing 0.8573525846510249\n",
      "800 On training 0.9808943027611763\n",
      "800 On testing 0.8571438191956469\n",
      "850 On training 0.9808943027611763\n",
      "850 On testing 0.8577229749750829\n",
      "900 On training 0.9808943027611763\n",
      "900 On testing 0.8577297093446111\n",
      "950 On training 0.9808943027611763\n",
      "950 On testing 0.8569552568488538\n",
      "1000 On training 0.9808943027611763\n",
      "1000 On testing 0.8573525846510249\n"
     ]
    }
   ],
   "source": [
    "# Running for different n_estimators to get a range for randomized search grid\n",
    "n_estimators = [int(x) for x in np.linspace(start = 50, stop = 1000, num = 20)]\n",
    "for i in n_estimators:\n",
    "    rf = RandomForestClassifier(n_estimators = i, random_state = 5,criterion=\"entropy\")\n",
    "    rf.fit(features, labels)\n",
    "    y_pred_train = rf.predict(features)\n",
    "    print(i, \"On training\", accuracy_score(labels, y_pred_train))\n",
    "    y_pred_test = rf.predict(test)\n",
    "    print(i, \"On testing\", accuracy_score(test_labels, y_pred_test))"
   ]
  },
  {
   "cell_type": "code",
   "execution_count": null,
   "metadata": {},
   "outputs": [],
   "source": []
  }
 ],
 "metadata": {
  "kernelspec": {
   "display_name": "Python 3",
   "language": "python",
   "name": "python3"
  },
  "language_info": {
   "codemirror_mode": {
    "name": "ipython",
    "version": 3
   },
   "file_extension": ".py",
   "mimetype": "text/x-python",
   "name": "python",
   "nbconvert_exporter": "python",
   "pygments_lexer": "ipython3",
   "version": "3.8.3"
  }
 },
 "nbformat": 4,
 "nbformat_minor": 4
}
