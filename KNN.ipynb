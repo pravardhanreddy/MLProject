{
 "cells": [
  {
   "cell_type": "code",
   "execution_count": 9,
   "metadata": {},
   "outputs": [
    {
     "name": "stdout",
     "output_type": "stream",
     "text": [
      "0          no\n",
      "1          no\n",
      "2          no\n",
      "3          no\n",
      "4          no\n",
      "         ... \n",
      "591808     no\n",
      "591809     no\n",
      "591810     no\n",
      "591811     no\n",
      "591812    yes\n",
      "Name: isKilled, Length: 591813, dtype: object\n",
      "0         0\n",
      "1         0\n",
      "2         0\n",
      "3         0\n",
      "4         0\n",
      "         ..\n",
      "591808    0\n",
      "591809    0\n",
      "591810    0\n",
      "591811    0\n",
      "591812    1\n",
      "Name: isKilled, Length: 591813, dtype: int64\n",
      "        DepthTree  NumSubclass  McCabe  LOC  DepthNested   CA  CE  \\\n",
      "0               2            0       1    3            1  364  16   \n",
      "1               2            0       1    3            1  364  16   \n",
      "2               2            0       1    3            1  364  16   \n",
      "3               2            0       1    3            1  364  16   \n",
      "4               2            0       1    3            1  364  16   \n",
      "...           ...          ...     ...  ...          ...  ...  ..   \n",
      "591808          3            0       1    3            1    1  11   \n",
      "591809          2            0       1    3            1    1  11   \n",
      "591810          3            0       1    3            1    1  11   \n",
      "591811          1            0       1    3            1    1  11   \n",
      "591812          2            0       1    3            1    1  11   \n",
      "\n",
      "        Instability  numCovered  operator  methodReturn  numTestsCover  \\\n",
      "0             0.042          12         7             7             17   \n",
      "1             0.042          12         7             7             17   \n",
      "2             0.042          12         4             7             17   \n",
      "3             0.042          12         4             7             17   \n",
      "4             0.042          12         4             7             17   \n",
      "...             ...         ...       ...           ...            ...   \n",
      "591808        0.917           0         4             7              0   \n",
      "591809        0.917           0         4             7              0   \n",
      "591810        0.917           0         4             7              0   \n",
      "591811        0.917           0         4             7              0   \n",
      "591812        0.917           6         4             7              2   \n",
      "\n",
      "        mutantAssert  classAssert  isKilled  \n",
      "0                  0            0         0  \n",
      "1                  0            0         0  \n",
      "2                  0            0         0  \n",
      "3                  0            0         0  \n",
      "4                  0            0         0  \n",
      "...              ...          ...       ...  \n",
      "591808             0            0         0  \n",
      "591809             0            0         0  \n",
      "591810             0            0         0  \n",
      "591811             0            0         0  \n",
      "591812             0            0         1  \n",
      "\n",
      "[591813 rows x 15 columns]\n",
      "The shape of our features is: (591813, 15)\n"
     ]
    }
   ],
   "source": [
    "import pandas as pd\n",
    "import numpy as np\n",
    "import matplotlib.pyplot as plt\n",
    "from sklearn.feature_selection import RFE\n",
    "from sklearn.model_selection import cross_val_score,train_test_split\n",
    "from sklearn.metrics import accuracy_score, confusion_matrix, classification_report, precision_recall_fscore_support, f1_score, roc_curve, roc_auc_score, RocCurveDisplay, auc\n",
    "from collections import Counter\n",
    "from sklearn import preprocessing\n",
    "from sklearn.model_selection import RandomizedSearchCV\n",
    "from sklearn.linear_model import LogisticRegression\n",
    "from sklearn import metrics\n",
    "from sklearn.pipeline import Pipeline\n",
    "from sklearn.neighbors import KNeighborsClassifier\n",
    "from sklearn.decomposition import PCA\n",
    "\n",
    "#Include normalization\n",
    "\n",
    "def convert(data):\n",
    "    number = preprocessing.LabelEncoder()\n",
    "    data['operator'] = number.fit_transform(data.operator)\n",
    "    data['methodReturn'] = number.fit_transform(data.methodReturn)\n",
    "    print(data['isKilled'])\n",
    "    data['isKilled'] = number.fit_transform(data.isKilled)\n",
    "    print(data['isKilled'])\n",
    "    return data\n",
    "\n",
    "# Read in data and display first 5 rows\n",
    "features = pd.read_csv('training_data.csv',encoding= 'unicode_escape')\n",
    "#print(features)\n",
    "#print('The shape of our features is:', features.shape)\n",
    "\n",
    "#Convert string to float\n",
    "features=convert(features)\n",
    "print(features)\n",
    "print('The shape of our features is:', features.shape) \n",
    "\n",
    "# Use numpy to convert to arrays\n",
    "# Labels are the values we want to predict\n",
    "labels = np.array(features['isKilled'])\n",
    "# Remove the labels from the features\n",
    "# axis 1 refers to the columns\n",
    "features= features.drop('isKilled', axis = 1)\n",
    "# Saving feature names for later use\n",
    "feature_list = list(features.columns)\n",
    "# Convert to numpy array\n",
    "features = np.array(features)"
   ]
  },
  {
   "cell_type": "markdown",
   "metadata": {},
   "source": [
    "true label = no = 0 <br>\n",
    "our label = yes = 1"
   ]
  },
  {
   "cell_type": "code",
   "execution_count": 10,
   "metadata": {},
   "outputs": [
    {
     "name": "stdout",
     "output_type": "stream",
     "text": [
      "0         yes\n",
      "1         yes\n",
      "2         yes\n",
      "3         yes\n",
      "4         yes\n",
      "         ... \n",
      "148487    yes\n",
      "148488    yes\n",
      "148489    yes\n",
      "148490    yes\n",
      "148491    yes\n",
      "Name: isKilled, Length: 148492, dtype: object\n",
      "0         1\n",
      "1         1\n",
      "2         1\n",
      "3         1\n",
      "4         1\n",
      "         ..\n",
      "148487    1\n",
      "148488    1\n",
      "148489    1\n",
      "148490    1\n",
      "148491    1\n",
      "Name: isKilled, Length: 148492, dtype: int64\n"
     ]
    }
   ],
   "source": [
    "test = pd.read_csv('testing_data.csv',encoding= 'unicode_escape')\n",
    "\n",
    "#Convert string to float\n",
    "test=convert(test)\n",
    "\n",
    "# ## Labels are the values we want to predict\n",
    "test_labels = np.array(test['isKilled'])\n",
    "\n",
    "# # Remove the labels from the features\n",
    "# # axis 1 refers to the columns\n",
    "test= test.drop('isKilled', axis = 1)\n",
    "# # Saving feature names for later use\n",
    "feature_list = list(test.columns)\n",
    "# # Convert to numpy array\n",
    "test = np.array(test)"
   ]
  },
  {
   "cell_type": "code",
   "execution_count": 11,
   "metadata": {},
   "outputs": [
    {
     "name": "stdout",
     "output_type": "stream",
     "text": [
      "(295906, 14) (295906,)\n",
      "(295907, 14) (295907,)\n"
     ]
    }
   ],
   "source": [
    "X_train, X_test, y_train, y_test = train_test_split(features, labels, test_size=0.5,random_state=0)\n",
    "print (X_train.shape, y_train.shape)\n",
    "print (X_test.shape, y_test.shape)\n"
   ]
  },
  {
   "cell_type": "code",
   "execution_count": 12,
   "metadata": {},
   "outputs": [
    {
     "name": "stdout",
     "output_type": "stream",
     "text": [
      "********* CROSS VALIDATION *************\n",
      "0.9415931356811431\n",
      "[[223590  11526]\n",
      " [  5757  55034]]\n",
      "********* TEST *************\n",
      "0.821747972954772\n",
      "Confusion_matrix:\n",
      " [[82370 10612]\n",
      " [15857 39653]]\n",
      "(0.821747972954772, 0.821747972954772, 0.821747972954772, None)\n",
      "0.821747972954772\n"
     ]
    }
   ],
   "source": [
    "knn = KNeighborsClassifier(n_neighbors=19)\n",
    "\n",
    "knnPipe = Pipeline(steps=[('model',knn)])\n",
    "knnPipe.fit(X_train,y_train)\n",
    "\n",
    "print(\"********* CROSS VALIDATION *************\")\n",
    "y_pred_train_logreg = knnPipe.predict(X_test)\n",
    "print(accuracy_score(y_test, y_pred_train_logreg))\n",
    "print(confusion_matrix(y_test, y_pred_train_logreg))\n",
    "\n",
    "print(\"********* TEST *************\")\n",
    "y_pred_test = knnPipe.predict(test)\n",
    "\n",
    "print(accuracy_score(test_labels, y_pred_test))\n",
    "confusion = confusion_matrix(test_labels, y_pred_test)\n",
    "print(\"Confusion_matrix:\\n\",confusion)\n",
    "print(precision_recall_fscore_support(test_labels, y_pred_test, average='micro'))\n",
    "print(f1_score(test_labels, y_pred_test, average='micro'))\n"
   ]
  },
  {
   "cell_type": "code",
   "execution_count": 5,
   "metadata": {},
   "outputs": [
    {
     "data": {
      "image/png": "[encoded data removed]",
      "text/plain": [
       "<Figure size 432x288 with 1 Axes>"
      ]
     },
     "metadata": {
      "needs_background": "light"
     },
     "output_type": "display_data"
    }
   ],
   "source": [
    "\n",
    "pca = PCA(n_components=2)\n",
    "transformed = pd.DataFrame(pca.fit_transform(X_train))\n",
    "\n",
    "\n",
    "plt.scatter(transformed[y_train==0][0], transformed[y_train==0][1], label='No', c='red')\n",
    "plt.scatter(transformed[y_train==1][0], transformed[y_train==1][1], label='Yes', c='blue')\n",
    "\n",
    "plt.show()"
   ]
  },
  {
   "cell_type": "markdown",
   "metadata": {},
   "source": [
    "Finding the best k"
   ]
  },
  {
   "cell_type": "code",
   "execution_count": 5,
   "metadata": {},
   "outputs": [
    {
     "name": "stdout",
     "output_type": "stream",
     "text": [
      "*******TRAIN********\n",
      "5\n",
      "0.9473111484351502\n",
      "*******TEST*********\n",
      "19\n",
      "0.821747972954772\n"
     ]
    }
   ],
   "source": [
    "max_acc_train = 0\n",
    "max_acc_test = 0\n",
    "train_k = 0\n",
    "test_k = 0\n",
    "\n",
    "for neighbors in range(5,50):\n",
    "\n",
    "    knn = KNeighborsClassifier(n_neighbors=neighbors)\n",
    "\n",
    "    knnPipe = Pipeline(steps=[('model',knn)])\n",
    "    knnPipe.fit(X_train,y_train)\n",
    "\n",
    "\n",
    "    y_pred_train_logreg = knnPipe.predict(X_test)\n",
    "    acc = accuracy_score(y_test, y_pred_train_logreg)\n",
    "    if acc > max_acc_train:\n",
    "        max_acc_train = acc\n",
    "        train_k = neighbors\n",
    "\n",
    "\n",
    "    y_pred_test = knnPipe.predict(test)\n",
    "    acc = accuracy_score(test_labels, y_pred_test) \n",
    "    if acc > max_acc_test:\n",
    "        max_acc_test = acc\n",
    "        test_k = neighbors\n",
    "\n",
    "print(\"*******TRAIN********\")\n",
    "print(train_k)\n",
    "print(max_acc_train)\n",
    "\n",
    "print(\"*******TEST*********\")\n",
    "print(test_k)\n",
    "print(max_acc_test)"
   ]
  },
  {
   "cell_type": "code",
   "execution_count": 15,
   "metadata": {},
   "outputs": [
    {
     "name": "stdout",
     "output_type": "stream",
     "text": [
      "********* CROSS VALIDATION *************\n",
      "0.9480546252707777\n",
      "[[226271   8845]\n",
      " [  6526  54265]]\n",
      "********* TEST *************\n",
      "0.8197680683134445\n",
      "Confusion_matrix:\n",
      " [[82119 10863]\n",
      " [15900 39610]]\n",
      "(0.8197680683134445, 0.8197680683134445, 0.8197680683134445, None)\n",
      "0.8197680683134445\n"
     ]
    }
   ],
   "source": [
    "from sklearn import preprocessing\n",
    "knn = KNeighborsClassifier(n_neighbors=19, weights='distance', metric='minkowski', p=15)\n",
    "\n",
    "normalizer = preprocessing.Normalizer()\n",
    "knnPipe = Pipeline(steps=[('normalization',normalizer),('model',knn)])\n",
    "\n",
    "knnPipe.fit(X_train,y_train)\n",
    "\n",
    "print(\"********* CROSS VALIDATION *************\")\n",
    "y_pred_train_logreg = knnPipe.predict(X_test)\n",
    "print(accuracy_score(y_test, y_pred_train_logreg))\n",
    "print(confusion_matrix(y_test, y_pred_train_logreg))\n",
    "\n",
    "print(\"********* TEST *************\")\n",
    "y_pred_test = knnPipe.predict(test)\n",
    "\n",
    "print(accuracy_score(test_labels, y_pred_test))\n",
    "confusion = confusion_matrix(test_labels, y_pred_test)\n",
    "print(\"Confusion_matrix:\\n\",confusion)\n",
    "print(precision_recall_fscore_support(test_labels, y_pred_test, average='micro'))\n",
    "print(f1_score(test_labels, y_pred_test, average='micro'))\n",
    "   "
   ]
  },
  {
   "cell_type": "code",
   "execution_count": 20,
   "metadata": {},
   "outputs": [
    {
     "name": "stdout",
     "output_type": "stream",
     "text": [
      "********* CROSS VALIDATION *************\n",
      "0.9495990294247855\n",
      "[[226743   8373]\n",
      " [  6541  54250]]\n",
      "********* TEST *************\n",
      "0.8308326374484821\n",
      "Confusion_matrix:\n",
      " [[83907  9075]\n",
      " [16045 39465]]\n",
      "(0.8308326374484821, 0.8308326374484821, 0.8308326374484821, None)\n",
      "0.8308326374484821\n"
     ]
    }
   ],
   "source": [
    "from sklearn import preprocessing\n",
    "knn = KNeighborsClassifier(n_neighbors=19, weights='distance')\n",
    "\n",
    "normalizer = preprocessing.Normalizer()\n",
    "\n",
    "knnPipe = Pipeline(steps=[('normalization',normalizer),('model',knn)])\n",
    "\n",
    "knnPipe.fit(X_train,y_train)\n",
    "\n",
    "print(\"********* CROSS VALIDATION *************\")\n",
    "y_pred_train_logreg = knnPipe.predict(X_test)\n",
    "print(accuracy_score(y_test, y_pred_train_logreg))\n",
    "print(confusion_matrix(y_test, y_pred_train_logreg))\n",
    "\n",
    "print(\"********* TEST *************\")\n",
    "y_pred_test = knnPipe.predict(test)\n",
    "\n",
    "print(accuracy_score(test_labels, y_pred_test))\n",
    "confusion = confusion_matrix(test_labels, y_pred_test)\n",
    "print(\"Confusion_matrix:\\n\",confusion)\n",
    "print(precision_recall_fscore_support(test_labels, y_pred_test, average='micro'))\n",
    "print(f1_score(test_labels, y_pred_test, average='micro'))\n",
    "   "
   ]
  }
 ],
 "metadata": {
  "interpreter": {
   "hash": "b0fa6594d8f4cbf19f97940f81e996739fb7646882a419484c72d19e05852a7e"
  },
  "kernelspec": {
   "display_name": "Python 3.9.10 64-bit",
   "language": "python",
   "name": "python3"
  },
  "language_info": {
   "codemirror_mode": {
    "name": "ipython",
    "version": 3
   },
   "file_extension": ".py",
   "mimetype": "text/x-python",
   "name": "python",
   "nbconvert_exporter": "python",
   "pygments_lexer": "ipython3",
   "version": "3.9.10"
  },
  "orig_nbformat": 4
 },
 "nbformat": 4,
 "nbformat_minor": 2
}
